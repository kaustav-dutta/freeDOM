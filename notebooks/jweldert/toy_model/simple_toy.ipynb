{
 "cells": [
  {
   "cell_type": "code",
   "execution_count": null,
   "metadata": {},
   "outputs": [],
   "source": [
    "import numpy as np\n",
    "import matplotlib.pyplot as plt\n",
    "from scipy import stats\n",
    "from scipy.optimize import curve_fit"
   ]
  },
  {
   "cell_type": "code",
   "execution_count": null,
   "metadata": {},
   "outputs": [],
   "source": [
    "params = {'legend.fontsize': 17,\n",
    "          'figure.figsize': (15, 9.3),\n",
    "          'axes.labelsize': 24,\n",
    "          'axes.titlesize': 24,\n",
    "          'xtick.labelsize': 22,\n",
    "          'ytick.labelsize': 22}\n",
    "plt.rcParams.update(params)\n",
    "params = ['x', 'y', 't', 'E', 'azi']"
   ]
  },
  {
   "cell_type": "code",
   "execution_count": null,
   "metadata": {},
   "outputs": [],
   "source": [
    "class spike_gen(stats.rv_continuous):\n",
    "    def pdf(self, x, theta):\n",
    "        return np.exp(-2*np.abs(x-theta))\n",
    "    def rvs(self, theta):\n",
    "        out = []\n",
    "        while len(out) < len(theta):\n",
    "            P = np.random.rand(len(theta)-len(out))*20 - 10\n",
    "            p = self.pdf(P, 0)\n",
    "            w = np.random.rand(len(theta)-len(out))\n",
    "            out.extend(P[w<p])\n",
    "        return np.array(out) + theta\n",
    "spike = spike_gen()"
   ]
  },
  {
   "cell_type": "code",
   "execution_count": null,
   "metadata": {},
   "outputs": [],
   "source": [
    "def LLH(theta, x):\n",
    "    #return -np.log(stats.poisson.pmf(x, theta))\n",
    "    return -np.log(stats.norm.pdf(x, theta, 2)) #+stats.norm.pdf(x+1, theta, 2)\n",
    "    #return -np.log(spike.pdf(x, theta))"
   ]
  },
  {
   "cell_type": "code",
   "execution_count": null,
   "metadata": {
    "scrolled": false
   },
   "outputs": [],
   "source": [
    "T = np.linspace(1,100,100)\n",
    "plt.plot(T, LLH(T, 50), label=r'$x=50$')\n",
    "plt.plot(T, LLH(T, 5), label=r'$x=5$')\n",
    "plt.legend()\n",
    "plt.title('Poisson distribution')\n",
    "plt.xlabel(r'$\\theta$')\n",
    "plt.ylabel('-LLH')\n",
    "plt.ylim(-1, 100)\n",
    "#plt.savefig('../../plots/uncertainties/from_dLLH/1D_toy/llh_scans_poisson', bbox_inches='tight')"
   ]
  },
  {
   "cell_type": "code",
   "execution_count": null,
   "metadata": {},
   "outputs": [],
   "source": [
    "theta = np.random.uniform(5, 9, 1000000)\n",
    "#x = stats.poisson.rvs(theta) # = theta_bf\n",
    "#x = stats.norm.rvs(theta, 2)\n",
    "x = spike.rvs(theta)\n",
    "\n",
    "resi = x-theta\n",
    "resi_abs = np.abs(resi)\n",
    "\n",
    "#x2 = stats.norm.rvs(theta, 2)\n",
    "#resi2 = (x+x2)/2-theta"
   ]
  },
  {
   "cell_type": "code",
   "execution_count": null,
   "metadata": {},
   "outputs": [],
   "source": [
    "plt.hist(resi, 200, label='std = %.2f'%(np.std(resi)), density=True)\n",
    "#plt.hist(resi2, np.linspace(min(resi), max(resi), 200), label='std = %.2f'%(np.std(resi2)), alpha=0.5)\n",
    "plt.plot(np.linspace(-2,2,200), spike.pdf(np.linspace(-2,2,200), 0))\n",
    "plt.legend()\n",
    "plt.title(r'Normal distribution ($\\theta_{true}$ from 5-9)')\n",
    "plt.xlabel(r'$\\theta_{reco}-\\theta_{true}$')\n",
    "plt.ylabel('#events')\n",
    "#plt.savefig('../../plots/uncertainties/from_dLLH/1D_toy/resi_normal_low', bbox_inches='tight')"
   ]
  },
  {
   "cell_type": "code",
   "execution_count": null,
   "metadata": {},
   "outputs": [],
   "source": [
    "d_llh = LLH(theta, x)-LLH(x, x) #x=theta_bf\n",
    "\n",
    "d_llh_68 = np.percentile(d_llh, 68)\n",
    "d_llh_68"
   ]
  },
  {
   "cell_type": "code",
   "execution_count": null,
   "metadata": {
    "scrolled": false
   },
   "outputs": [],
   "source": [
    "plt.hist(d_llh, 200)\n",
    "plt.axvline(d_llh_68, label='68 percentile = %.2f'%(d_llh_68), color='black')\n",
    "plt.legend()\n",
    "plt.title(r'Normal distribution ($\\theta_{true}$ from 5-9)') # recoed with normal\n",
    "plt.xlabel(r'$\\Delta LLH$')\n",
    "plt.ylabel('#events')\n",
    "plt.yscale('log')\n",
    "#plt.savefig('../../plots/uncertainties/from_dLLH/1D_toy/dllh_normal_low', bbox_inches='tight')"
   ]
  },
  {
   "cell_type": "code",
   "execution_count": null,
   "metadata": {},
   "outputs": [],
   "source": [
    "dLLH_range = np.logspace(-2, 0.2, 30)\n",
    "dLLH_center = (dLLH_range[1:]+dLLH_range[:-1])/2\n",
    "medi = []\n",
    "for i in range(len(dLLH_range)-1):\n",
    "    test = np.abs(resi)[(d_llh > dLLH_range[i]) & (d_llh < dLLH_range[i+1])]\n",
    "    if len(test) == 0: test = np.zeros(1)\n",
    "    medi.append(np.mean(test))"
   ]
  },
  {
   "cell_type": "code",
   "execution_count": null,
   "metadata": {},
   "outputs": [],
   "source": [
    "def func(x, a):\n",
    "    return a * np.sqrt(x)\n",
    "\n",
    "popt, pcov = curve_fit(func, dLLH_center, medi)\n",
    "\n",
    "unc_68 = func(d_llh_68, popt[0])\n",
    "unc_68_2 = func(2*d_llh_68, popt[0])\n",
    "unc_68, unc_68_2"
   ]
  },
  {
   "cell_type": "code",
   "execution_count": null,
   "metadata": {},
   "outputs": [],
   "source": [
    "plt.scatter(d_llh, resi_abs)\n",
    "plt.scatter(dLLH_center, medi, color='r', label='means')\n",
    "plt.plot(dLLH_center, func(dLLH_center, popt[0]), color='r', label=r'$a\\cdot\\sqrt{x}$ fit to mean')\n",
    "plt.axvline(d_llh_68, color='red', linestyle='--', label='68 percentile (%.2f, %.2f)'%(d_llh_68, unc_68))\n",
    "plt.axhline(unc_68, color='red', linestyle='--')\n",
    "plt.legend(loc='upper left')\n",
    "plt.title(r'Normal distribution ($\\theta_{true}$ from 5-9)') # recoed with normal\n",
    "plt.xlabel(r'$\\Delta LLH$')\n",
    "plt.ylabel(r'$|\\theta_{reco}-\\theta_{true}|$')\n",
    "#plt.savefig('../../plots/uncertainties/from_dLLH/1D_toy/unc_est_normal_low', bbox_inches='tight')"
   ]
  },
  {
   "cell_type": "code",
   "execution_count": null,
   "metadata": {},
   "outputs": [],
   "source": []
  }
 ],
 "metadata": {
  "kernelspec": {
   "display_name": "Python 3",
   "language": "python",
   "name": "python3"
  },
  "language_info": {
   "codemirror_mode": {
    "name": "ipython",
    "version": 3
   },
   "file_extension": ".py",
   "mimetype": "text/x-python",
   "name": "python",
   "nbconvert_exporter": "python",
   "pygments_lexer": "ipython3",
   "version": "3.6.9"
  }
 },
 "nbformat": 4,
 "nbformat_minor": 4
}

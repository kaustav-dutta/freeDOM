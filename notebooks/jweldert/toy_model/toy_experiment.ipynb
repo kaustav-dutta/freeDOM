{
 "cells": [
  {
   "cell_type": "code",
   "execution_count": null,
   "metadata": {},
   "outputs": [],
   "source": [
    "import numpy as np\n",
    "import matplotlib.pyplot as plt\n",
    "import pickle\n",
    "import tensorflow as tf\n",
    "import tensorflow_addons as tfa\n",
    "\n",
    "from matplotlib.colors import LogNorm\n",
    "from scipy import stats\n",
    "from scipy.optimize import minimize\n",
    "from copy import deepcopy\n",
    "from sklearn.model_selection import train_test_split\n",
    "\n",
    "from freedom.toy_model import advanced_toy_model, NNs"
   ]
  },
  {
   "cell_type": "code",
   "execution_count": null,
   "metadata": {},
   "outputs": [],
   "source": [
    "params = {'legend.fontsize': 17,\n",
    "          'figure.figsize': (15, 9.3),\n",
    "          'axes.labelsize': 24,\n",
    "          'axes.titlesize': 24,\n",
    "          'xtick.labelsize': 22,\n",
    "          'ytick.labelsize': 22}\n",
    "plt.rcParams.update(params)\n",
    "\n",
    "par_names = ['x', 'y', 't', 'E', 'azi']\n",
    "data_path = '../../freedom/resources/toy_data/'\n",
    "plot_path = '../../plots/toy_model/'\n",
    "\n",
    "def correct_azi(azi):\n",
    "    azi = np.where(azi<-np.pi, azi+2*np.pi, azi)\n",
    "    return np.where(azi>np.pi, azi-2*np.pi, azi)"
   ]
  },
  {
   "cell_type": "code",
   "execution_count": null,
   "metadata": {},
   "outputs": [],
   "source": [
    "detectors = np.vstack([np.repeat(np.linspace(-10, 10, 5), 5), np.tile(np.linspace(-10, 10, 5), 5)]).T\n",
    "toy_experiment = advanced_toy_model.advanced_toy_experiment(detectors=detectors, isotrop=False) #, time_dist=advanced_toy_model.pandel"
   ]
  },
  {
   "cell_type": "code",
   "execution_count": null,
   "metadata": {},
   "outputs": [],
   "source": [
    "bounds = np.array([[-12,12], [-12,12], [-5,5], [3,40], [0, 2*np.pi]])\n",
    "\n",
    "def LLH(X, event, only_c=False, only_h=False, fix=[None], bounds=bounds):\n",
    "    #X: hypo_x, hypo_y, hypo_t, hypo_N_src, hypo_ang\n",
    "    assert only_c + only_h < 2\n",
    "    \n",
    "    if fix[0] != None:\n",
    "        X = np.insert(X, fix[0], fix[1])\n",
    "        \n",
    "    if ~np.alltrue(np.logical_and(bounds[:,0] <= X, X <= bounds[:,1]), axis=-1):\n",
    "        return 1e9\n",
    "    \n",
    "    pos = np.array([X[0], X[1]])\n",
    "    c_term = -toy_experiment.charge_term(event[0], pos, X[3], X[4])\n",
    "    h_term = -toy_experiment.hit_term(event[1], pos, X[2], X[3], X[4])\n",
    "    \n",
    "    if only_c: return c_term\n",
    "    if only_h: return h_term\n",
    "    return c_term + h_term\n",
    "\n",
    "def LLH_NN(X, event, chargeNet=None, hitNet=None, fix=[None], bounds=bounds):\n",
    "    #X: hypo_x, hypo_y, hypo_t, hypo_N_src, hypo_ang\n",
    "    if fix[0] != None:\n",
    "        X = np.insert(X, fix[0], fix[1])\n",
    "        \n",
    "    if ~np.alltrue(np.logical_and(bounds[:,0] <= X, X <= bounds[:,1]), axis=-1):\n",
    "        return 1e9\n",
    "    \n",
    "    c_term = 0\n",
    "    if chargeNet != None:\n",
    "        x, t = event[0].reshape((1,2)), np.array([X])\n",
    "        c_term = -chargeNet.predict([x, t])[0, 0]\n",
    "    h_term = 0\n",
    "    if hitNet != None and len(event[1]) > 0:\n",
    "        x, t = event[1][:,:3], np.repeat([X], len(event[1]), axis=0)\n",
    "        h_term = -np.sum(hitNet.predict([x, t]))\n",
    "    \n",
    "    return c_term + h_term"
   ]
  },
  {
   "cell_type": "code",
   "execution_count": null,
   "metadata": {},
   "outputs": [],
   "source": [
    "#loc = '../../freedom/resources/models/toy/'\n",
    "#cmodel = tf.keras.models.load_model(loc+'chargeNet_new.hdf5', custom_objects={'charge_trafo':NNs.charge_trafo})\n",
    "#hmodel = tf.keras.models.load_model(loc+'hitNet.hdf5', custom_objects={'hit_trafo':NNs.hit_trafo})"
   ]
  },
  {
   "cell_type": "markdown",
   "metadata": {},
   "source": [
    "## Create events"
   ]
  },
  {
   "cell_type": "code",
   "execution_count": null,
   "metadata": {},
   "outputs": [],
   "source": [
    "N = 200000\n",
    "events, Truth = toy_experiment.generate_events(N, xlims=(-12,12), blims=(-12,12), N_lims=(3,40))\n",
    "Truth = np.insert(Truth, 2, 0, axis=1)\n",
    "\n",
    "np.save('../../freedom/resources/toy_data/toy_events_test', events)\n",
    "np.save('../../freedom/resources/toy_data/toy_truth_test', Truth)"
   ]
  },
  {
   "cell_type": "markdown",
   "metadata": {},
   "source": [
    "## Train NNs"
   ]
  },
  {
   "cell_type": "code",
   "execution_count": null,
   "metadata": {},
   "outputs": [],
   "source": [
    "events = np.load('../../freedom/resources/toy_data/toy_events.npy', allow_pickle=True)#[:100000]\n",
    "Truth = np.load('../../freedom/resources/toy_data/toy_truth.npy', allow_pickle=True)#[:100000]"
   ]
  },
  {
   "cell_type": "code",
   "execution_count": null,
   "metadata": {},
   "outputs": [],
   "source": [
    "strategy = tf.distribute.MirroredStrategy()\n",
    "nGPUs = strategy.num_replicas_in_sync"
   ]
  },
  {
   "cell_type": "markdown",
   "metadata": {},
   "source": [
    "hitNet"
   ]
  },
  {
   "cell_type": "code",
   "execution_count": null,
   "metadata": {},
   "outputs": [],
   "source": [
    "x, t = NNs.get_hit_data(events, Truth)\n",
    "x_train, x_test, t_train, t_test = train_test_split(x, t, test_size=0.1, random_state=42)\n",
    "\n",
    "d_train = NNs.DataGenerator(x_train, t_train, batch_size=2048*nGPUs)\n",
    "d_valid = NNs.DataGenerator(x_test, t_test, batch_size=2048*nGPUs)"
   ]
  },
  {
   "cell_type": "code",
   "execution_count": null,
   "metadata": {},
   "outputs": [],
   "source": [
    "with strategy.scope():\n",
    "    hmodel = NNs.get_model(x_shape=3, t_shape=5, trafo=NNs.hit_trafo)\n",
    "    optimizer = tf.keras.optimizers.Adam(1e-3)\n",
    "    hmodel.compile(loss='binary_crossentropy', optimizer=optimizer)"
   ]
  },
  {
   "cell_type": "code",
   "execution_count": null,
   "metadata": {},
   "outputs": [],
   "source": [
    "hist = hmodel.fit(d_train, epochs=100, verbose=1, validation_data=d_valid)"
   ]
  },
  {
   "cell_type": "code",
   "execution_count": null,
   "metadata": {},
   "outputs": [],
   "source": [
    "plt.plot(hist.history['loss'])\n",
    "plt.plot(hist.history['val_loss'])\n",
    "plt.yscale('log')"
   ]
  },
  {
   "cell_type": "code",
   "execution_count": null,
   "metadata": {},
   "outputs": [],
   "source": [
    "hmodel.layers[-1].activation = tf.keras.activations.linear\n",
    "hmodel.compile()\n",
    "#hmodel.save('../../../freedom/resources/models/toy/hitNet.hdf5')"
   ]
  },
  {
   "cell_type": "markdown",
   "metadata": {},
   "source": [
    "chargeNet"
   ]
  },
  {
   "cell_type": "code",
   "execution_count": null,
   "metadata": {},
   "outputs": [],
   "source": [
    "x, t = NNs.get_charge_data(events, Truth)\n",
    "x_train, x_test, t_train, t_test = train_test_split(x, t, test_size=0.1, random_state=42)\n",
    "\n",
    "d_train = NNs.DataGenerator(x_train, t_train, batch_size=2048*nGPUs)\n",
    "d_valid = NNs.DataGenerator(x_test, t_test, batch_size=2048*nGPUs)"
   ]
  },
  {
   "cell_type": "code",
   "execution_count": null,
   "metadata": {},
   "outputs": [],
   "source": [
    "# define function here again (easier to modify)\n",
    "def get_model(x_shape, t_shape, trafo, activation=tfa.activations.mish, dets=None): #'elu'\n",
    "    x_input = tf.keras.Input(shape=(x_shape,))\n",
    "    t_input = tf.keras.Input(shape=(t_shape,))\n",
    "\n",
    "    if np.all(dets) == None:\n",
    "        inp = trafo()(x_input, t_input)\n",
    "    else:\n",
    "        inp = trafo()(x_input, t_input, dets=dets)\n",
    "        \n",
    "    c, nch, ts = tf.split(inp, [1, 1, 5], 1)\n",
    "\n",
    "    ls = [ts]\n",
    "    ls.append(tf.keras.layers.Dense(5, activation=activation)(ts))\n",
    "    for i in range(50):\n",
    "        stacked = tf.concat(ls, axis=-1)\n",
    "        if i == 49:\n",
    "            ls.append(tf.keras.layers.Dense(50, activation='exponential')(stacked))\n",
    "        else:\n",
    "            ls.append(tf.keras.layers.Dense(5, activation=activation)(stacked))\n",
    "        \n",
    "    h = tf.keras.layers.Dropout(0.01)(tf.concat(ls, axis=-1))\n",
    "    h = tf.keras.layers.Dense(100, activation=activation)(h)\n",
    "    h = tf.keras.layers.Dropout(0.01)(h)\n",
    "    h = tf.keras.layers.Dense(50, activation=activation)(h)\n",
    "    h = tf.keras.layers.Dropout(0.01)(h)\n",
    "    h = tf.keras.layers.Dense(25, activation=activation)(h)\n",
    "    h = tf.keras.layers.Dense(5, activation=activation)(h)\n",
    "    \n",
    "    h = tf.concat([h, c], axis=-1)\n",
    "    h = tf.keras.layers.Dense(30, activation=activation)(h)\n",
    "    h = tf.keras.layers.Dense(30, activation=activation)(h)\n",
    "    #h = tf.concat([h, nch], axis=-1)\n",
    "    h = tf.keras.layers.Dense(30, activation=activation)(h)\n",
    "    h = tf.keras.layers.Dense(30, activation=activation)(h)\n",
    "    h = tf.keras.layers.Dense(30, activation='exponential')(h)\n",
    "\n",
    "    outputs = tf.keras.layers.Dense(1, activation='sigmoid')(h)\n",
    "\n",
    "    model = tf.keras.Model(inputs=[x_input, t_input], outputs=outputs)\n",
    "    \n",
    "    return model"
   ]
  },
  {
   "cell_type": "code",
   "execution_count": null,
   "metadata": {},
   "outputs": [],
   "source": [
    "optimizer = tf.keras.optimizers.Adam(2e-3)\n",
    "#radam = tfa.optimizers.RectifiedAdam(lr=2e-3)\n",
    "#optimizer = tfa.optimizers.Lookahead(radam)\n",
    "with strategy.scope():\n",
    "    cmodel = get_model(x_shape=2, t_shape=5, trafo=NNs.charge_trafo, dets=toy_experiment.detectors.astype(np.float32))\n",
    "    cmodel.compile(loss='binary_crossentropy', optimizer=optimizer)"
   ]
  },
  {
   "cell_type": "code",
   "execution_count": null,
   "metadata": {},
   "outputs": [],
   "source": [
    "hist = cmodel.fit(d_train, epochs=25, verbose=1, validation_data=d_valid)"
   ]
  },
  {
   "cell_type": "code",
   "execution_count": null,
   "metadata": {
    "scrolled": false
   },
   "outputs": [],
   "source": [
    "plt.plot(hist.history['loss'])\n",
    "plt.plot(hist.history['val_loss'])\n",
    "plt.yscale('log')"
   ]
  },
  {
   "cell_type": "code",
   "execution_count": null,
   "metadata": {},
   "outputs": [],
   "source": [
    "cmodel.layers[-1].activation = tf.keras.activations.linear\n",
    "cmodel.compile()\n",
    "#cmodel.save('../../../freedom/resources/models/toy/chargeNet_new.hdf5')"
   ]
  },
  {
   "cell_type": "markdown",
   "metadata": {},
   "source": [
    "simple checks"
   ]
  },
  {
   "cell_type": "code",
   "execution_count": null,
   "metadata": {},
   "outputs": [],
   "source": [
    "# hitnet\n",
    "x, t = np.zeros(300).reshape((100,3)), np.stack([np.ones(100), np.ones(100), np.linspace(-5,5,100), 10*np.ones(100), np.zeros(100)]).T\n",
    "pred = -hmodel.predict([x, t])\n",
    "\n",
    "true = []\n",
    "for T in np.linspace(-5,5,100): #hit_times, pos_src, t_src, N_src, ang_src\n",
    "    true.append(-toy_experiment.hit_term(np.array([np.append(x[0], 12)]), [1,1], T, 10, 0))"
   ]
  },
  {
   "cell_type": "code",
   "execution_count": null,
   "metadata": {},
   "outputs": [],
   "source": [
    "plt.plot(np.linspace(-5,5,100), pred-np.min(pred))\n",
    "plt.plot(np.linspace(-5,5,100), np.array(true)-np.min(true))"
   ]
  },
  {
   "cell_type": "code",
   "execution_count": null,
   "metadata": {},
   "outputs": [],
   "source": [
    "# charge net\n",
    "x, t = 10*np.ones(200).reshape((100,2)), np.stack([np.ones(100), np.ones(100), np.zeros(100), np.linspace(3,40,100), np.zeros(100)]).T\n",
    "pred = -cmodel.predict([x, t])\n",
    "\n",
    "true = []\n",
    "for E in np.linspace(3,40,100):\n",
    "    true.append(-toy_experiment.charge_term(x[0], [1,1], E, 0))"
   ]
  },
  {
   "cell_type": "code",
   "execution_count": null,
   "metadata": {},
   "outputs": [],
   "source": [
    "plt.plot(np.linspace(3,40,100), pred-np.min(pred))\n",
    "plt.plot(np.linspace(3,40,100), np.array(true)-np.min(true))"
   ]
  },
  {
   "cell_type": "markdown",
   "metadata": {},
   "source": [
    "## Test event"
   ]
  },
  {
   "cell_type": "code",
   "execution_count": null,
   "metadata": {},
   "outputs": [],
   "source": [
    "# generate one test event\n",
    "\n",
    "example_pos_src = np.array([1, 1])\n",
    "example_N_src = 10\n",
    "example_ang_src = np.pi\n",
    "test_event = toy_experiment.generate_event(example_pos_src, N_src=example_N_src, ang_src=example_ang_src)\n",
    "truth = np.array([example_pos_src[0], example_pos_src[1], 0, example_N_src, example_ang_src])\n",
    "'''\n",
    "test_event = events[4]\n",
    "example_pos_src = Truth[4][:2]\n",
    "example_N_src = Truth[4][3]\n",
    "example_ang_src = Truth[4][4]\n",
    "'''"
   ]
  },
  {
   "cell_type": "code",
   "execution_count": null,
   "metadata": {},
   "outputs": [],
   "source": [
    "u, idx, c = np.unique(test_event[1][:,3], return_counts=True, return_index=True)\n",
    "\n",
    "plt.scatter(toy_experiment.detectors[0], toy_experiment.detectors[1], color='grey')\n",
    "plt.scatter(test_event[1][idx, 1], test_event[1][idx, 2], s=30*c, marker='+', linewidth=3, color='r')\n",
    "plt.scatter(example_pos_src[0], example_pos_src[1], color='black', marker='$T$', s=70)\n",
    "#plt.savefig('../../../plots/toy_model/test_event', bbox_inches='tight')"
   ]
  },
  {
   "cell_type": "markdown",
   "metadata": {},
   "source": [
    "#### reco test event"
   ]
  },
  {
   "cell_type": "code",
   "execution_count": null,
   "metadata": {},
   "outputs": [],
   "source": [
    "seed = np.random.normal(truth) #\n",
    "mini = minimize(LLH, seed, method='Nelder-Mead', args=(np.array(test_event)))\n",
    "args = (np.array(test_event), cmodel, hmodel, [None])\n",
    "mini2 = minimize(LLH_NN, seed, method='Nelder-Mead', args=args)\n",
    "\n",
    "truth, mini.x, mini2.x"
   ]
  },
  {
   "cell_type": "markdown",
   "metadata": {},
   "source": [
    "#### LLH scans"
   ]
  },
  {
   "cell_type": "code",
   "execution_count": null,
   "metadata": {},
   "outputs": [],
   "source": [
    "# 1d LLH space\n",
    "point, point2 = truth, truth #mini.x, mini2.x #Reco[3046]\n",
    "\n",
    "X = np.linspace(point[0]-3, point[0]+3, 100)\n",
    "Y = np.linspace(point[1]-3, point[1]+3, 100)\n",
    "T, E = np.linspace(point[2]-2, point[2]+2, 100), np.linspace(max(point[3]-7,3), point[3]+7, 100)\n",
    "ranges = [X, Y, T, E]\n",
    "\n",
    "llhs, llhs_nn = [], []\n",
    "for i in range(len(ranges)):\n",
    "    llh, llh_nn = [], []\n",
    "    p, p2 = deepcopy(point), deepcopy(point2)\n",
    "    for idx in np.ndindex(ranges[i].shape):\n",
    "        p[i], p2[i] = ranges[i][idx], ranges[i][idx]\n",
    "        llh.append(LLH(p, test_event, only_c=True)) #\n",
    "        llhs_nn = np.append(llhs_nn, p2)\n",
    "    llhs.append(llh-np.min(llh))\n",
    "llhs = np.array(llhs)\n",
    "\n",
    "#NN\n",
    "c_ts = llhs_nn.reshape((400,5))\n",
    "c_xs = np.tile(test_event[0], len(c_ts)).reshape(len(c_ts), 2)\n",
    "h_ts = np.repeat(c_ts, test_event[1].shape[0], axis=0)\n",
    "h_xs = np.tile(test_event[1][:, :3], (len(c_ts),1))\n",
    "\n",
    "nn_c = -cmodel.predict([c_xs, c_ts], batch_size=4096).reshape(llhs.shape)\n",
    "nn_h = 0 #-hmodel.predict([h_xs, h_ts], batch_size=4096).reshape((len(c_ts), test_event[1].shape[0]))\n",
    "nn_h = 0 #np.sum(nn_h, axis=1).reshape(llhs.shape)\n",
    "llhs_nn = nn_c + nn_h\n",
    "for l in llhs_nn:\n",
    "    l -= np.min(l)"
   ]
  },
  {
   "cell_type": "code",
   "execution_count": null,
   "metadata": {
    "scrolled": false
   },
   "outputs": [],
   "source": [
    "plt.figure(figsize=(15, 11))\n",
    "#plt.suptitle('At bf', y=0.91, size=23)\n",
    "for i in range(4):\n",
    "    plt.subplot(2,2,i+1)\n",
    "    plt.plot(ranges[i], llhs[i], label='True LLH')\n",
    "    #plt.axvline(mini.x[i], label='Best-fit true llh', color='blue')\n",
    "    plt.plot(ranges[i], llhs_nn[i], label='NN LLH')\n",
    "    #plt.axvline(mini2.x[i], label='Best-fit nn llh', color='r')\n",
    "    plt.axvline(truth[i], color='black', linestyle='--', label='Truth')\n",
    "    \n",
    "    plt.legend(fontsize=15)\n",
    "    plt.xlabel(par_names[i])\n",
    "    #plt.ylim(0,10)\n",
    "#plt.savefig('../../../plots/toy_model/llh_scans', bbox_inches='tight')"
   ]
  },
  {
   "cell_type": "code",
   "execution_count": null,
   "metadata": {},
   "outputs": [],
   "source": [
    "# Grid scan\n",
    "X = np.linspace(-10, 10, 100)\n",
    "Y = np.linspace(-10, 10, 100)\n",
    "x, y = np.meshgrid(X, Y)\n",
    "\n",
    "g = {}\n",
    "g['hit_terms'] = np.empty(x.shape)\n",
    "g['charge_terms'] = np.empty(x.shape)\n",
    "\n",
    "for idx in np.ndindex(x.shape):\n",
    "    hypo_pos =  np.array([x[idx], y[idx]])\n",
    "    hypo_t = 0 #mini.x[2]\n",
    "    hypo_N_src = example_N_src #mini.x[3]\n",
    "    hypo_ang_src = example_ang_src #mini.x[4]\n",
    "    g['hit_terms'][idx] = 0 #-toy_experiment.hit_term(test_event[1], hypo_pos, hypo_t, hypo_N_src, hypo_ang_src)\n",
    "    g['charge_terms'][idx] = -toy_experiment.charge_term(test_event[0], hypo_pos, hypo_N_src, hypo_ang_src)\n",
    "    \n",
    "g['total_llh'] = g['hit_terms'] + g['charge_terms']\n",
    "g['total_llh'] -= np.min(g['total_llh'])\n",
    "\n",
    "#NN\n",
    "ones = np.ones(np.prod(x.shape))\n",
    "c_ts = np.vstack([x.flatten(), y.flatten(), ones*0, ones*example_N_src, ones*example_ang_src]).T\n",
    "#c_ts = np.vstack([x.flatten(), y.flatten(), ones*mini2.x[2], ones*mini2.x[3], ones*mini2.x[4]]).T\n",
    "c_xs = np.tile(test_event[0], np.prod(x.shape)).reshape(np.prod(x.shape), 2)\n",
    "h_ts = np.repeat(c_ts, test_event[1].shape[0], axis=0)\n",
    "h_xs = np.tile(test_event[1][:, :3], (np.prod(x.shape),1))\n",
    "\n",
    "g_nn_c = -cmodel.predict([c_xs, c_ts], batch_size=4096).reshape(g['total_llh'].shape)\n",
    "g_nn_h = -hmodel.predict([h_xs, h_ts], batch_size=4096).reshape((np.prod(x.shape), test_event[1].shape[0]))\n",
    "g_nn_h = np.sum(g_nn_h, axis=1).reshape(g['total_llh'].shape)\n",
    "g_nn = g_nn_c #+ g_nn_h\n",
    "g_nn -= np.min(g_nn)"
   ]
  },
  {
   "cell_type": "code",
   "execution_count": null,
   "metadata": {},
   "outputs": [],
   "source": [
    "#plot 2d LLH space\n",
    "plt.figure(figsize=(20,7))\n",
    "#plt.suptitle('At bf', y=0.98, size=23)\n",
    "\n",
    "plt.subplot(121)\n",
    "plt.pcolormesh(X, Y, g['total_llh']) #, vmax=10\n",
    "plt.colorbar()\n",
    "plt.title('true LLH')\n",
    "plt.scatter(example_pos_src[0], example_pos_src[1], color='white', marker='$T$', s=70)\n",
    "#plt.scatter(mini.x[0], mini.x[1], color='r')\n",
    "#plt.scatter(toy_experiment.detectors[0], toy_experiment.detectors[1], color='black')\n",
    "\n",
    "plt.subplot(122)\n",
    "plt.pcolormesh(X, Y, g_nn) #, vmax=10\n",
    "plt.colorbar()\n",
    "plt.title('NN LLH')\n",
    "plt.scatter(example_pos_src[0], example_pos_src[1], color='white', marker='$T$', s=70)\n",
    "#plt.scatter(mini2.x[0], mini2.x[1], color='r')\n",
    "#plt.scatter(toy_experiment.detectors[0], toy_experiment.detectors[1], color='black')\n",
    "\n",
    "#plt.savefig('../../../plots/toy_model/LLH_scans/xy_llh_scan', bbox_inches='tight')"
   ]
  },
  {
   "cell_type": "code",
   "execution_count": null,
   "metadata": {},
   "outputs": [],
   "source": []
  }
 ],
 "metadata": {
  "kernelspec": {
   "display_name": "Python 3",
   "language": "python",
   "name": "python3"
  },
  "language_info": {
   "codemirror_mode": {
    "name": "ipython",
    "version": 3
   },
   "file_extension": ".py",
   "mimetype": "text/x-python",
   "name": "python",
   "nbconvert_exporter": "python",
   "pygments_lexer": "ipython3",
   "version": "3.6.9"
  }
 },
 "nbformat": 4,
 "nbformat_minor": 4
}

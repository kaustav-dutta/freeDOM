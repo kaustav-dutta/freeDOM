{
 "cells": [
  {
   "cell_type": "code",
   "execution_count": null,
   "metadata": {},
   "outputs": [],
   "source": [
    "import numpy as np\n",
    "import matplotlib.pyplot as plt\n",
    "import pickle\n",
    "import tensorflow as tf\n",
    "import tensorflow_addons as tfa\n",
    "\n",
    "from matplotlib.colors import LogNorm\n",
    "from mpl_toolkits.mplot3d import Axes3D\n",
    "from scipy import stats\n",
    "from copy import deepcopy\n",
    "from sklearn.model_selection import train_test_split\n",
    "#from sklearn.preprocessing import MinMaxScaler #, StandardScaler\n",
    "from multiprocessing import Process, Pool\n",
    "\n",
    "%load_ext autoreload\n",
    "%autoreload 1\n",
    "\n",
    "from freedom.toy_model import advanced_toy_3D, NNs\n",
    "%aimport freedom.toy_model.advanced_toy_3D\n",
    "%aimport freedom.toy_model.NNs"
   ]
  },
  {
   "cell_type": "code",
   "execution_count": null,
   "metadata": {},
   "outputs": [],
   "source": [
    "params = {'legend.fontsize': 17,\n",
    "          'figure.figsize': (15, 9.3),\n",
    "          'axes.labelsize': 24,\n",
    "          'axes.titlesize': 24,\n",
    "          'xtick.labelsize': 22,\n",
    "          'ytick.labelsize': 22}\n",
    "plt.rcParams.update(params)\n",
    "\n",
    "par_names = ['x', 'y', 'z', 't', 'azi', 'zen', 'Ecscd', 'Etrck']\n",
    "data_path = '../../../freedom/resources/toy_data/'\n",
    "plot_path = '../../../plots/toy_model/'"
   ]
  },
  {
   "cell_type": "code",
   "execution_count": null,
   "metadata": {},
   "outputs": [],
   "source": [
    "#Build DeepCore-like detector\n",
    "detectors = np.vstack([[3.1,7.2,4.2,10.7,11.3,5.7,-1.0,-1.1], [-7.3,-6.7,3.5,2.7,-6.0,-10.5,-8.0,0.7], np.ones(8)]).T\n",
    "detectors = np.repeat(detectors, 25, axis=0)\n",
    "detectors[:, 2] = np.tile(np.linspace(-17, 17, 25), 8)\n",
    "toy_experiment = advanced_toy_3D.advanced_toy_experiment(detectors=detectors, time_dist=advanced_toy_3D.pandel)"
   ]
  },
  {
   "cell_type": "code",
   "execution_count": null,
   "metadata": {},
   "outputs": [],
   "source": [
    "# test time distribution\n",
    "p1 = advanced_toy_3D.pandel(10)\n",
    "p2 = advanced_toy_3D.pandel(20)\n",
    "p3 = advanced_toy_3D.pandel(30)\n",
    "\n",
    "x = np.linspace(-3, 300, 200)\n",
    "plt.plot(x, p1.pdf(x), label='T=10')\n",
    "plt.hist(p1.rvs(50000), x, density=True, color='Tab:blue', alpha=0.5)\n",
    "plt.axvline(10, color='Tab:blue', linestyle='--')\n",
    "plt.plot(x, p2.pdf(x), label='T=20')\n",
    "plt.hist(p2.rvs(50000), x, density=True, color='Tab:orange', alpha=0.5)\n",
    "plt.axvline(20, color='Tab:orange', linestyle='--')\n",
    "plt.plot(x, p3.pdf(x), label='T=30')\n",
    "plt.hist(p3.rvs(50000), x, density=True, color='Tab:green', alpha=0.5)\n",
    "plt.axvline(30, color='Tab:green', linestyle='--')\n",
    "\n",
    "plt.legend()\n",
    "plt.xlabel('t after event')\n",
    "plt.ylabel('time pdf')\n",
    "#plt.savefig('../../../plots/toy_model/time_pdf', bbox_inches='tight')"
   ]
  },
  {
   "cell_type": "markdown",
   "metadata": {},
   "source": [
    "## Create events"
   ]
  },
  {
   "cell_type": "code",
   "execution_count": null,
   "metadata": {},
   "outputs": [],
   "source": [
    "N = 10000\n",
    "\n",
    "if 'events' in locals():\n",
    "    events2, Truth2 = toy_experiment.generate_events(N)\n",
    "    events = np.concatenate([events, events2])\n",
    "    Truth = np.concatenate([Truth, Truth2])\n",
    "else:\n",
    "    events, Truth = toy_experiment.generate_events(N)\n",
    "\n",
    "#np.save('../../../freedom/resources/toy_data/toy_events_3D', events)\n",
    "#np.save('../../../freedom/resources/toy_data/toy_truth_3D', Truth)"
   ]
  },
  {
   "cell_type": "markdown",
   "metadata": {},
   "source": [
    "## Train NNs"
   ]
  },
  {
   "cell_type": "code",
   "execution_count": null,
   "metadata": {},
   "outputs": [],
   "source": [
    "events = np.load('../../../freedom/resources/toy_data/toy_events_3D.npy', allow_pickle=True)#[:100000]\n",
    "Truth = np.load('../../../freedom/resources/toy_data/toy_truth_3D.npy', allow_pickle=True)#[:100000]"
   ]
  },
  {
   "cell_type": "code",
   "execution_count": null,
   "metadata": {},
   "outputs": [],
   "source": [
    "strategy = tf.distribute.MirroredStrategy()\n",
    "nGPUs = strategy.num_replicas_in_sync"
   ]
  },
  {
   "cell_type": "markdown",
   "metadata": {},
   "source": [
    "hitNet"
   ]
  },
  {
   "cell_type": "code",
   "execution_count": null,
   "metadata": {},
   "outputs": [],
   "source": [
    "x, t = NNs.get_hit_data(events, Truth)\n",
    "x_train, x_test, t_train, t_test = train_test_split(x, t, test_size=0.1, random_state=42)\n",
    "\n",
    "d_train = NNs.DataGenerator(x_train, t_train, batch_size=4096*nGPUs)\n",
    "d_valid = NNs.DataGenerator(x_test, t_test, batch_size=4096*nGPUs)"
   ]
  },
  {
   "cell_type": "code",
   "execution_count": null,
   "metadata": {
    "scrolled": true
   },
   "outputs": [],
   "source": [
    "optimizer = tf.keras.optimizers.Adam(1e-3)\n",
    "with strategy.scope():\n",
    "    hmodel = NNs.get_hmodel(x_shape=4, t_shape=8, trafo=NNs.hit_trafo_3D, activation=tfa.activations.mish)\n",
    "    hmodel.compile(loss='binary_crossentropy', optimizer=optimizer)\n",
    "hmodel.summary()"
   ]
  },
  {
   "cell_type": "code",
   "execution_count": null,
   "metadata": {
    "scrolled": true
   },
   "outputs": [],
   "source": [
    "hist = hmodel.fit(d_train, epochs=10, verbose=1, validation_data=d_valid)"
   ]
  },
  {
   "cell_type": "code",
   "execution_count": null,
   "metadata": {},
   "outputs": [],
   "source": [
    "plt.plot(hist.history['loss'])\n",
    "plt.plot(hist.history['val_loss'])\n",
    "plt.yscale('log')"
   ]
  },
  {
   "cell_type": "code",
   "execution_count": null,
   "metadata": {},
   "outputs": [],
   "source": [
    "inp, lab = d_valid.__getitem__(0)\n",
    "pred = hmodel.predict(inp, batch_size=nGPUs*4096).flatten()\n",
    "plt.hist(pred[lab==0], 100, histtype='step')\n",
    "plt.hist(pred[lab==1], 100, histtype='step');\n",
    "plt.yscale('log')"
   ]
  },
  {
   "cell_type": "code",
   "execution_count": null,
   "metadata": {},
   "outputs": [],
   "source": [
    "hmodel.layers[-1].activation = tf.keras.activations.linear\n",
    "hmodel.compile()\n",
    "#hmodel.save('../../../freedom/resources/models/toy/hitNet_3D.hdf5')"
   ]
  },
  {
   "cell_type": "markdown",
   "metadata": {},
   "source": [
    "chargeNet"
   ]
  },
  {
   "cell_type": "code",
   "execution_count": null,
   "metadata": {},
   "outputs": [],
   "source": [
    "x, t = NNs.get_charge_data(events, Truth)\n",
    "x_train, x_test, t_train, t_test = train_test_split(x, t, test_size=0.1, random_state=42)\n",
    "\n",
    "d_train = NNs.DataGenerator(x_train, t_train, batch_size=2048*nGPUs)\n",
    "d_valid = NNs.DataGenerator(x_test, t_test, batch_size=2048*nGPUs)"
   ]
  },
  {
   "cell_type": "code",
   "execution_count": null,
   "metadata": {
    "scrolled": true
   },
   "outputs": [],
   "source": [
    "optimizer = tf.keras.optimizers.Adam(2e-3)\n",
    "with strategy.scope():\n",
    "    cmodel = NNs.get_cmodel(x_shape=2, t_shape=8, trafo=NNs.charge_trafo_3D, activation=tfa.activations.mish)\n",
    "    cmodel.compile(loss='binary_crossentropy', optimizer=optimizer)\n",
    "cmodel.summary()"
   ]
  },
  {
   "cell_type": "code",
   "execution_count": null,
   "metadata": {
    "scrolled": false
   },
   "outputs": [],
   "source": [
    "hist = cmodel.fit(d_train, epochs=50, verbose=1, validation_data=d_valid)"
   ]
  },
  {
   "cell_type": "code",
   "execution_count": null,
   "metadata": {
    "scrolled": false
   },
   "outputs": [],
   "source": [
    "plt.plot(hist.history['loss'])\n",
    "plt.plot(hist.history['val_loss'])\n",
    "plt.yscale('log')"
   ]
  },
  {
   "cell_type": "code",
   "execution_count": null,
   "metadata": {},
   "outputs": [],
   "source": [
    "inp, lab = d_valid.__getitem__(0)\n",
    "pred = cmodel.predict(inp, batch_size=nGPUs*4096).flatten()\n",
    "plt.hist(pred[lab==0], 100, histtype='step')\n",
    "plt.hist(pred[lab==1], 100, histtype='step');\n",
    "plt.yscale('log')"
   ]
  },
  {
   "cell_type": "code",
   "execution_count": null,
   "metadata": {},
   "outputs": [],
   "source": [
    "cmodel.layers[-1].activation = tf.keras.activations.linear\n",
    "cmodel.compile()\n",
    "#cmodel.save('../../../freedom/resources/models/toy/chargeNet_3D.hdf5')"
   ]
  },
  {
   "cell_type": "markdown",
   "metadata": {},
   "source": [
    "checks"
   ]
  },
  {
   "cell_type": "code",
   "execution_count": null,
   "metadata": {},
   "outputs": [],
   "source": [
    "x = np.zeros(400).reshape((100,4))\n",
    "o = np.ones(100)\n",
    "t = np.stack([o, o, o, np.linspace(-15,1,100), 0*o, 0*o, 10*o, 0*o]).T\n",
    "pred = -hmodel.predict([x, t])\n",
    "\n",
    "true = []\n",
    "for T in np.linspace(-15,1,100):\n",
    "    true.append(-toy_experiment.hit_term(np.array([np.append(x[0], 0)]), [1,1,1], T, [0, 0], 10, 0))\n",
    "true = np.array(true)"
   ]
  },
  {
   "cell_type": "code",
   "execution_count": null,
   "metadata": {},
   "outputs": [],
   "source": [
    "plt.plot(np.linspace(-15,1,100), true-np.min(true), label='True')\n",
    "plt.plot(np.linspace(-15,1,100), pred-np.min(pred), label='NN')\n",
    "#plt.plot(np.linspace(-15,1,100), np.exp(-true)/np.sum(np.exp(-true)), label='True')\n",
    "#plt.plot(np.linspace(-15,1,100), np.exp(-pred)/np.sum(np.exp(-pred)), label='NN')\n",
    "plt.axvline(-np.sqrt(3)*1.33, color='black')\n",
    "plt.legend()\n",
    "plt.xlabel('time')\n",
    "plt.ylabel('PDF') #plt.ylabel('dLLH')\n",
    "#plt.savefig('../../../plots/toy_model/LLH_scans/hitnet_test_pdf', bbox_inches='tight')"
   ]
  },
  {
   "cell_type": "code",
   "execution_count": null,
   "metadata": {},
   "outputs": [],
   "source": [
    "x = 10*np.ones(200).reshape((100,2))\n",
    "o = np.ones(100)\n",
    "t = np.stack([o, o, o, 0*o, 0*o, 0*o, np.linspace(1,30,100), 0*o]).T\n",
    "pred = -cmodel.predict([x, t])\n",
    "\n",
    "true = []\n",
    "for E in np.linspace(1,30,100):\n",
    "    true.append(-toy_experiment.charge_term(x[0], [1,1,1], [0,0], E, 0))"
   ]
  },
  {
   "cell_type": "code",
   "execution_count": null,
   "metadata": {},
   "outputs": [],
   "source": [
    "plt.plot(np.linspace(1,30,100), np.array(true)-np.min(true), label='True')\n",
    "plt.plot(np.linspace(1,30,100), pred-np.min(pred), label='NN')\n",
    "plt.legend()\n",
    "plt.xlabel('Cascade energy')\n",
    "plt.ylabel('dLLH')\n",
    "#plt.savefig('../../../plots/toy_model/LLH_scans/chargenet_test', bbox_inches='tight')"
   ]
  },
  {
   "cell_type": "markdown",
   "metadata": {},
   "source": [
    "Dataset?"
   ]
  },
  {
   "cell_type": "code",
   "execution_count": null,
   "metadata": {},
   "outputs": [],
   "source": [
    "dataset_tf = tf.data.Dataset.from_generator(\n",
    "    lambda: (s for s in d_train),\n",
    "    output_types=((tf.int64, tf.float64), tf.int64), \n",
    "    #output_shapes=([32,256,256,3], [32,5])\n",
    ")\n",
    "\n",
    "dataset_tf_val = tf.data.Dataset.from_generator(\n",
    "    lambda: (s for s in d_valid),\n",
    "    output_types=((tf.int64, tf.float64), tf.int64), \n",
    "    #output_shapes=([32,256,256,3], [32,5])\n",
    ")"
   ]
  },
  {
   "cell_type": "code",
   "execution_count": null,
   "metadata": {},
   "outputs": [],
   "source": [
    "dataset_tf = dataset_tf.prefetch(len(d_train))\n",
    "dataset_tf_val = dataset_tf.prefetch(len(d_valid))"
   ]
  },
  {
   "cell_type": "code",
   "execution_count": null,
   "metadata": {},
   "outputs": [],
   "source": [
    "hist = cmodel.fit(dataset_tf, epochs=15, verbose=1, validation_data=dataset_tf_val)"
   ]
  },
  {
   "cell_type": "markdown",
   "metadata": {},
   "source": [
    "## Test event"
   ]
  },
  {
   "cell_type": "code",
   "execution_count": null,
   "metadata": {},
   "outputs": [],
   "source": [
    "# generate one test event\n",
    "\n",
    "pos_src = np.random.rand(3) * np.array([14,16,32]) + np.array([-2,-12,-16])\n",
    "Ecscd_src, Etrck_src = 19*np.random.rand()+1, 20*np.random.rand()\n",
    "ang_src = np.random.rand(2) * np.array([2,1])*np.pi\n",
    "test_event = toy_experiment.generate_event(pos_src, ang_src, Ecscd_src, Etrck_src)\n",
    "truth = np.array([pos_src[0], pos_src[1], pos_src[2], 0, ang_src[0], ang_src[1], Ecscd_src, Etrck_src])"
   ]
  },
  {
   "cell_type": "code",
   "execution_count": null,
   "metadata": {},
   "outputs": [],
   "source": [
    "u, idx, c = np.unique(test_event[1][:,4], return_counts=True, return_index=True)\n",
    "ts, i = [], 0\n",
    "for C in c:\n",
    "    ts.append(np.log(np.median(test_event[1][i:i+C,0])))\n",
    "    i += C\n",
    "\n",
    "fig = plt.figure()\n",
    "ax = fig.add_subplot(111, projection='3d')\n",
    "ax.scatter(toy_experiment.detectors[0], toy_experiment.detectors[1], toy_experiment.detectors[2], color='grey')\n",
    "ax.scatter(test_event[1][idx, 1], test_event[1][idx, 2], test_event[1][idx, 3], s=30*c, c=ts, cmap='jet_r')\n",
    "ax.scatter(truth[0], truth[1], truth[2], color='black', marker='$T$', s=70)\n",
    "ax.plot([truth[0], truth[0]-Etrck_src/3*np.sin(truth[5])*np.cos(truth[4])], \n",
    "        [truth[1], truth[1]-Etrck_src/3*np.sin(truth[5])*np.sin(truth[4])], \n",
    "        [truth[2], truth[2]-Etrck_src/3*np.cos(truth[5])], color='black')\n",
    "#ax.view_init(elev=0., azim=0.)\n",
    "#plt.savefig('../../../plots/toy_model/test_event2', bbox_inches='tight')"
   ]
  },
  {
   "cell_type": "markdown",
   "metadata": {},
   "source": [
    "#### LLH scans"
   ]
  },
  {
   "cell_type": "code",
   "execution_count": null,
   "metadata": {},
   "outputs": [],
   "source": [
    "loc = '../../../freedom/resources/models/toy/'\n",
    "cmodel = tf.keras.models.load_model(loc+'chargeNet_3D.hdf5', custom_objects={'charge_trafo_3D':NNs.charge_trafo_3D})\n",
    "hmodel = tf.keras.models.load_model(loc+'hitNet_3D.hdf5', custom_objects={'hit_trafo_3D':NNs.hit_trafo_3D})"
   ]
  },
  {
   "cell_type": "code",
   "execution_count": null,
   "metadata": {},
   "outputs": [],
   "source": [
    "bounds = np.array([[-2,12], [-12,4], [-18,18], [-30,30], [0, 2*np.pi], [0, np.pi], [1,30], [0,30]])\n",
    "\n",
    "def LLH(X, event, only_c=False, only_h=False, fix=[None], bounds=bounds):\n",
    "    #X: hypo_x, hypo_y, hypo_t, hypo_N_src, hypo_ang\n",
    "    assert only_c + only_h < 2\n",
    "    \n",
    "    if fix[0] != None:\n",
    "        X = np.insert(X, fix[0], fix[1])\n",
    "        \n",
    "    if ~np.alltrue(np.logical_and(bounds[:,0] <= X, X <= bounds[:,1]), axis=-1):\n",
    "        return 1e9\n",
    "    \n",
    "    pos = np.array([X[0], X[1], X[2]])\n",
    "    angs = np.array([X[4], X[5]])\n",
    "    c_term = -toy_experiment.charge_term(event[0], pos, angs, X[6], X[7])\n",
    "    h_term = -toy_experiment.hit_term(event[1], pos, X[3], angs, X[6], X[7])\n",
    "    \n",
    "    if only_c: return c_term\n",
    "    if only_h: return h_term\n",
    "    return c_term + h_term\n",
    "\n",
    "def LLH_NN(X, event, chargeNet=None, hitNet=None, fix=[None], bounds=bounds):\n",
    "    #X: hypo_x, hypo_y, hypo_t, hypo_N_src, hypo_ang\n",
    "    if fix[0] != None:\n",
    "        X = np.insert(X, fix[0], fix[1])\n",
    "        \n",
    "    if ~np.alltrue(np.logical_and(bounds[:,0] <= X, X <= bounds[:,1]), axis=-1):\n",
    "        return 1e9\n",
    "    \n",
    "    c_term = 0\n",
    "    if chargeNet != None:\n",
    "        x, t = event[0].reshape((1,2)), np.array([X])\n",
    "        c_term = -chargeNet.predict([x, t])[0, 0]\n",
    "    h_term = 0\n",
    "    if hitNet != None and len(event[1]) > 0:\n",
    "        x, t = event[1][:,:4], np.repeat([X], len(event[1]), axis=0)\n",
    "        h_term = -np.sum(hitNet.predict([x, t]))\n",
    "    \n",
    "    return c_term + h_term"
   ]
  },
  {
   "cell_type": "code",
   "execution_count": null,
   "metadata": {},
   "outputs": [],
   "source": [
    "# 1d LLH space\n",
    "point, point2 = truth, truth\n",
    "\n",
    "X = np.linspace(max(point[0]-2, -2), min(point[0]+2, 12), 100)\n",
    "Y = np.linspace(max(point[1]-2, -12), min(point[1]+2, 4), 100)\n",
    "Z = np.linspace(max(point[2]-3, -18), min(point[2]+3, 18), 100)\n",
    "T = np.linspace(point[3]-10, point[3]+10, 100)\n",
    "AZI, ZEN = np.linspace(0, 2*np.pi, 100), np.linspace(0, np.pi, 100)\n",
    "ECSCD, ETRCK = np.linspace(max(point[6]-7,1), point[6]+7, 100), np.linspace(max(point[7]-7,0), point[7]+7, 100)\n",
    "ranges = [X, Y, Z, T, AZI, ZEN, ECSCD, ETRCK]\n",
    "\n",
    "llhs, llhs_nn = [], []\n",
    "for i in range(len(ranges)):\n",
    "    llh, llh_nn = [], []\n",
    "    p, p2 = deepcopy(point), deepcopy(point2)\n",
    "    for idx in np.ndindex(ranges[i].shape):\n",
    "        p[i], p2[i] = ranges[i][idx], ranges[i][idx]\n",
    "        llh.append(LLH(p, test_event)) #, only_h=True\n",
    "        llhs_nn = np.append(llhs_nn, p2)\n",
    "    llhs.append(llh-np.min(llh))\n",
    "llhs = np.array(llhs)\n",
    "\n",
    "#NN\n",
    "c_ts = llhs_nn.reshape((800,8))\n",
    "c_xs = np.tile(test_event[0], len(c_ts)).reshape(len(c_ts), 2)\n",
    "h_ts = np.repeat(c_ts, test_event[1].shape[0], axis=0)\n",
    "h_xs = np.tile(test_event[1][:, :4], (len(c_ts),1))\n",
    "\n",
    "nn_c = -cmodel.predict([c_xs, c_ts], batch_size=4096).reshape(llhs.shape)\n",
    "nn_h = -hmodel.predict([h_xs, h_ts], batch_size=4096).reshape((len(c_ts), test_event[1].shape[0]))\n",
    "nn_h = np.sum(nn_h, axis=1).reshape(llhs.shape)\n",
    "llhs_nn = nn_c + nn_h\n",
    "for l in llhs_nn:\n",
    "    l -= np.min(l)"
   ]
  },
  {
   "cell_type": "code",
   "execution_count": null,
   "metadata": {
    "scrolled": false
   },
   "outputs": [],
   "source": [
    "plt.figure(figsize=(20, 11))\n",
    "for i in range(8):\n",
    "    plt.subplot(2,4,i+1)\n",
    "    plt.plot(ranges[i], llhs[i], label='True LLH')\n",
    "    plt.plot(ranges[i], llhs_nn[i], label='NN LLH')\n",
    "    plt.axvline(truth[i], color='black', linestyle='--', label='Truth')\n",
    "    \n",
    "    if i == 3: plt.ylim(-10, 2*max(llhs[i]))\n",
    "    plt.legend(fontsize=15)\n",
    "    plt.xlabel(par_names[i])\n",
    "    #plt.ylim(0,10)\n",
    "#plt.savefig('../../../plots/toy_model/LLH_scans/llh_scans_event2', bbox_inches='tight')"
   ]
  },
  {
   "cell_type": "code",
   "execution_count": null,
   "metadata": {},
   "outputs": [],
   "source": [
    "# Grid scan\n",
    "X = np.linspace(-2, 12, 70)\n",
    "Y = np.linspace(-12, 4, 70)\n",
    "x, y = np.meshgrid(X, Y)\n",
    "\n",
    "g = {}\n",
    "g['hit_terms'] = np.empty(x.shape)\n",
    "g['charge_terms'] = np.empty(x.shape)\n",
    "\n",
    "for idx in np.ndindex(x.shape):\n",
    "    hypo_pos =  np.array([x[idx], y[idx], truth[2]])\n",
    "    hypo_t = truth[3]\n",
    "    g['hit_terms'][idx] = -toy_experiment.hit_term(test_event[1], hypo_pos, hypo_t, ang_src, Ecscd_src, Etrck_src)\n",
    "    g['charge_terms'][idx] = -toy_experiment.charge_term(test_event[0], hypo_pos, ang_src, Ecscd_src, Etrck_src)\n",
    "\n",
    "g['total_llh'] = g['hit_terms'] + g['charge_terms']\n",
    "g['total_llh'] -= np.min(g['total_llh'])\n",
    "\n",
    "#NN\n",
    "o = np.ones(np.prod(x.shape))\n",
    "c_ts = np.vstack([x.flatten(), y.flatten(), o*truth[2], o*0, o*ang_src[0], o*ang_src[1], o*Ecscd_src, o*Etrck_src]).T\n",
    "c_xs = np.tile(test_event[0], np.prod(x.shape)).reshape(np.prod(x.shape), 2)\n",
    "h_ts = np.repeat(c_ts, test_event[1].shape[0], axis=0)\n",
    "h_xs = np.tile(test_event[1][:, :4], (np.prod(x.shape),1))\n",
    "\n",
    "g_nn_c = -cmodel.predict([c_xs, c_ts], batch_size=4096).reshape(g['total_llh'].shape)\n",
    "g_nn_h = -hmodel.predict([h_xs, h_ts], batch_size=4096).reshape((np.prod(x.shape), test_event[1].shape[0]))\n",
    "g_nn_h = np.sum(g_nn_h, axis=1).reshape(g['total_llh'].shape)\n",
    "g_nn = g_nn_c + g_nn_h\n",
    "g_nn -= np.min(g_nn)"
   ]
  },
  {
   "cell_type": "code",
   "execution_count": null,
   "metadata": {},
   "outputs": [],
   "source": [
    "#plot 2d LLH space\n",
    "plt.figure(figsize=(20,7))\n",
    "#plt.suptitle('At bf', y=0.98, size=23)\n",
    "\n",
    "plt.subplot(121)\n",
    "plt.pcolormesh(X, Y, g['total_llh']) #, vmax=500\n",
    "plt.colorbar()\n",
    "plt.title('true LLH')\n",
    "plt.scatter(pos_src[0], pos_src[1], color='white', marker='$T$', s=70)\n",
    "plt.scatter(toy_experiment.detectors[0], toy_experiment.detectors[1], color='black')\n",
    "\n",
    "plt.subplot(122)\n",
    "plt.pcolormesh(X, Y, g_nn) #, vmax=500\n",
    "plt.colorbar()\n",
    "plt.title('NN LLH')\n",
    "plt.scatter(pos_src[0], pos_src[1], color='white', marker='$T$', s=70)\n",
    "plt.scatter(toy_experiment.detectors[0], toy_experiment.detectors[1], color='black')\n",
    "\n",
    "#plt.savefig('../../../plots/toy_model/LLH_scans/xy_llh_scan_event2', bbox_inches='tight')"
   ]
  },
  {
   "cell_type": "code",
   "execution_count": null,
   "metadata": {},
   "outputs": [],
   "source": []
  }
 ],
 "metadata": {
  "kernelspec": {
   "display_name": "Python 3",
   "language": "python",
   "name": "python3"
  },
  "language_info": {
   "codemirror_mode": {
    "name": "ipython",
    "version": 3
   },
   "file_extension": ".py",
   "mimetype": "text/x-python",
   "name": "python",
   "nbconvert_exporter": "python",
   "pygments_lexer": "ipython3",
   "version": "3.6.9"
  }
 },
 "nbformat": 4,
 "nbformat_minor": 4
}

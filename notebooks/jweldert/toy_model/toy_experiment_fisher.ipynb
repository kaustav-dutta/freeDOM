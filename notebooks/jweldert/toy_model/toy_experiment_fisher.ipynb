{
 "cells": [
  {
   "cell_type": "code",
   "execution_count": null,
   "metadata": {},
   "outputs": [],
   "source": [
    "import numpy as np\n",
    "import matplotlib.pyplot as plt\n",
    "from matplotlib.colors import LogNorm\n",
    "from scipy import stats\n",
    "from scipy.optimize import minimize\n",
    "from scipy.optimize import curve_fit\n",
    "from copy import deepcopy\n",
    "import tensorflow as tf\n",
    "#from multiprocessing import Pool, current_process\n",
    "import pickle\n",
    "\n",
    "from freedom.toy_model import advanced_toy_model"
   ]
  },
  {
   "cell_type": "code",
   "execution_count": null,
   "metadata": {},
   "outputs": [],
   "source": [
    "params = {'legend.fontsize': 17,\n",
    "          'figure.figsize': (15, 9.3),\n",
    "          'axes.labelsize': 24,\n",
    "          'axes.titlesize': 24,\n",
    "          'xtick.labelsize': 22,\n",
    "          'ytick.labelsize': 22}\n",
    "plt.rcParams.update(params)\n",
    "params = ['x', 'y', 't', 'E', 'azi']"
   ]
  },
  {
   "cell_type": "code",
   "execution_count": null,
   "metadata": {},
   "outputs": [],
   "source": [
    "#detectors = np.vstack([np.repeat(np.linspace(-5, 5, 6), 2), np.tile(np.linspace(-1, 1, 2), 6)]).T\n",
    "detectors = np.vstack([np.repeat(np.linspace(-10, 10, 10), 10), np.tile(np.linspace(-10, 10, 10), 10)]).T"
   ]
  },
  {
   "cell_type": "code",
   "execution_count": null,
   "metadata": {},
   "outputs": [],
   "source": [
    "toy_experiment = advanced_toy_model.advanced_toy_experiment(detectors=detectors, isotrop=False) #, time_dist=advanced_toy_model.pandel"
   ]
  },
  {
   "cell_type": "code",
   "execution_count": null,
   "metadata": {},
   "outputs": [],
   "source": [
    "def func(X, event, only_c=False, only_h=False, fix=[None]):\n",
    "    #X: hypo_x, hypo_b, hypo_t, hypo_N_src, hypo_ang\n",
    "    assert only_c + only_h < 2\n",
    "    \n",
    "    if fix[0] != None:\n",
    "        X = np.insert(X, fix[0], fix[1])\n",
    "        #X[fix[0]] = fix[1]\n",
    "    \n",
    "    pos = np.array([X[0], X[1]])\n",
    "    c_term = -toy_experiment.charge_term(event[0], pos, X[3], X[4]) #\n",
    "    h_term = -toy_experiment.hit_term(event[1], pos, X[2], X[3], X[4]) #\n",
    "    \n",
    "    if only_c: return c_term\n",
    "    if only_h: return h_term\n",
    "    return c_term + h_term\n",
    "        \n",
    "bounds = np.array([[-15,15], [-15,15], [-5,5], [0.1,40], [0, 2*np.pi]])"
   ]
  },
  {
   "cell_type": "code",
   "execution_count": null,
   "metadata": {},
   "outputs": [],
   "source": [
    "def gradients2(event, LLH_service, point, D=1e-3):\n",
    "    llh_center = LLH_service(point, event)\n",
    "    grads = []\n",
    "    for i in range(len(point)):\n",
    "        if i < 2:\n",
    "            d = 3 #5\n",
    "        else:\n",
    "            d = D\n",
    "        \n",
    "        p = deepcopy(point)\n",
    "        p[i] += d\n",
    "        llh_plus = LLH_service(p, event)\n",
    "        p[i] -= 2*d\n",
    "        llh_minus = LLH_service(p, event)\n",
    "        \n",
    "        grads.append((llh_plus-2*llh_center+llh_minus)/(d**2))\n",
    "    \n",
    "    return np.array(grads)\n",
    "\n",
    "def gradientsM(event, LLH_service, point, i, j, d=1e-3):\n",
    "    assert i != j\n",
    "    p = deepcopy(point)\n",
    "    p[i] += d\n",
    "    p[j] += d\n",
    "    llh_plus_plus = LLH_service(p, event)\n",
    "    p[j] -= 2*d\n",
    "    llh_plus_minus = LLH_service(p, event)\n",
    "    p[i] -= 2*d\n",
    "    llh_minus_minus = LLH_service(p, event)\n",
    "    p[j] += 2*d\n",
    "    llh_minus_plus = LLH_service(p, event)\n",
    "    \n",
    "    grad = (llh_plus_plus - llh_plus_minus - llh_minus_plus + llh_minus_minus)/(4*d**2)\n",
    "    \n",
    "    return grad"
   ]
  },
  {
   "cell_type": "markdown",
   "metadata": {},
   "source": [
    "## Test event"
   ]
  },
  {
   "cell_type": "code",
   "execution_count": null,
   "metadata": {},
   "outputs": [],
   "source": [
    "# generate one test event\n",
    "\n",
    "example_pos_src = np.array([-1, 2.2])\n",
    "example_N_src = 7\n",
    "example_ang_src = np.pi\n",
    "test_event = toy_experiment.generate_event(example_pos_src, N_src=example_N_src, ang_src=example_ang_src)\n",
    "'''\n",
    "test_event = events[4]\n",
    "example_pos_src = Truth[4][:2]\n",
    "example_N_src = Truth[4][3]\n",
    "example_ang_src = Truth[4][4]\n",
    "'''"
   ]
  },
  {
   "cell_type": "code",
   "execution_count": null,
   "metadata": {},
   "outputs": [],
   "source": [
    "#plt.scatter(toy_experiment.detectors[0], toy_experiment.detectors[1], color='grey')\n",
    "plt.scatter(test_event[0][:, 1], test_event[0][:, 2], s=15*test_event[0][:, 0])\n",
    "plt.scatter(example_pos_src[0], example_pos_src[1], color='black', marker='$T$', s=70)\n",
    "#plt.scatter(Truth[3046][0], Truth[3046][1], color='black', marker='$T$', s=70)"
   ]
  },
  {
   "cell_type": "markdown",
   "metadata": {},
   "source": [
    "#### LLH scans"
   ]
  },
  {
   "cell_type": "code",
   "execution_count": null,
   "metadata": {},
   "outputs": [],
   "source": [
    "# Grid scan\n",
    "X = np.linspace(-10, 10, 100)\n",
    "Y = np.linspace(-10, 10, 100)\n",
    "x, y = np.meshgrid(X, Y)\n",
    "\n",
    "g = {}\n",
    "g['hit_terms'] = np.empty(x.shape)\n",
    "g['charge_terms'] = np.empty(x.shape)\n",
    "\n",
    "for idx in np.ndindex(x.shape):\n",
    "    hypo_pos =  np.array([x[idx], y[idx]])\n",
    "    hypo_t = 0\n",
    "    hypo_N_src = example_N_src\n",
    "    hypo_ang_src = example_ang_src\n",
    "    g['hit_terms'][idx] = -toy_experiment.hit_term(test_event[1], hypo_pos, hypo_t, hypo_N_src, hypo_ang_src)\n",
    "    g['charge_terms'][idx] = -toy_experiment.charge_term(test_event[0], hypo_pos, hypo_N_src, hypo_ang_src)\n",
    "    \n",
    "g['total_llh'] = g['hit_terms'] + g['charge_terms']\n",
    "g['total_llh'] -= np.min(g['total_llh'])"
   ]
  },
  {
   "cell_type": "code",
   "execution_count": null,
   "metadata": {},
   "outputs": [],
   "source": [
    "#reco event \n",
    "points = [[-1, 2.2, 0, 7, np.pi]] #[Truth[4]]\n",
    "mini = minimize(func, points[0], method='SLSQP', bounds=bounds, args=(np.array(test_event))) #Nelder-Mead\n",
    "#args = (np.array(test_event), False, False, [None])\n",
    "#mini2 = minimize(func, points[0], method='SLSQP', bounds=bounds, args=args)"
   ]
  },
  {
   "cell_type": "code",
   "execution_count": null,
   "metadata": {},
   "outputs": [],
   "source": [
    "#plot 2d LLH space\n",
    "#plt.pcolormesh(X, Y, g['hit_terms']) \n",
    "#plt.pcolormesh(X, Y, g['charge_terms'])\n",
    "plt.pcolormesh(X, Y, g['total_llh']) #, vmax=10\n",
    "plt.colorbar()\n",
    "plt.scatter(example_pos_src[0], example_pos_src[1], color='white', marker='$T$', s=70)\n",
    "plt.scatter(points[-1:][0], points[-1:][1], color='r')\n",
    "plt.scatter(toy_experiment.detectors[0], toy_experiment.detectors[1], color='black')\n",
    "\n",
    "#plt.savefig('../../plots/toy_model/xy_scan_2d', bbox_inches='tight')"
   ]
  },
  {
   "cell_type": "code",
   "execution_count": null,
   "metadata": {},
   "outputs": [],
   "source": [
    "# 1d LLH space\n",
    "#point = np.array([example_pos_src[0], example_pos_src[1], 0, example_N_src, example_ang_src])\n",
    "point = mini.x #Reco[3046]\n",
    "\n",
    "X = np.linspace(point[0]-3, point[0]+3, 100)\n",
    "Y = np.linspace(point[1]-3, point[1]+3, 100)\n",
    "T, E = np.linspace(point[2]-2, point[2]+2, 100), np.linspace(max(point[3]-4,0.1), point[3]+4, 100)\n",
    "ranges = [X, Y, T, E]\n",
    "llhs = []\n",
    "\n",
    "for i in range(len(ranges)):\n",
    "    llh, llh_wrong = [], []\n",
    "    p = deepcopy(point)\n",
    "    for idx in np.ndindex(ranges[i].shape):\n",
    "        p[i] = ranges[i][idx]\n",
    "        llh.append(func(p, test_event)) #events[3046]\n",
    "    llhs.append(llh-np.min(llh))\n",
    "    \n",
    "grads = gradients2(test_event, func, point) #events[3046]\n",
    "grads"
   ]
  },
  {
   "cell_type": "code",
   "execution_count": null,
   "metadata": {
    "scrolled": false
   },
   "outputs": [],
   "source": [
    "plt.figure(figsize=(15, 11))\n",
    "for i in range(4):\n",
    "    plt.subplot(2,2,i+1)\n",
    "    plt.plot(ranges[i], llhs[i])\n",
    "    plt.axvline(point[i], label='Best-fit true llh', color='blue')\n",
    "    plt.axvline(points[0][i], color='black', linestyle='--', label='Truth')\n",
    "    plt.plot(ranges[i], grads[i]/2*(ranges[i]-point[i])**2, linestyle='--', label='Curvature')\n",
    "    \n",
    "    plt.legend(fontsize=15)\n",
    "    plt.xlabel(params[i])\n",
    "    #plt.ylim(0,2)\n",
    "#plt.savefig('../../plots/toy_model/llh_scans2_wrong', bbox_inches='tight')"
   ]
  },
  {
   "cell_type": "markdown",
   "metadata": {},
   "source": [
    "## Many events"
   ]
  },
  {
   "cell_type": "code",
   "execution_count": null,
   "metadata": {},
   "outputs": [],
   "source": [
    "N = 3000\n",
    "events, Truth = toy_experiment.generate_events(N, xlims=(-10,10), blims=(-10,10), N_lims=(1,30))\n",
    "Truth = np.insert(Truth, 2, 0, axis=1)"
   ]
  },
  {
   "cell_type": "code",
   "execution_count": null,
   "metadata": {},
   "outputs": [],
   "source": [
    "LLHs, Reco, n_hits, Grads = [], [], [], []\n",
    "for i, event in enumerate(events):\n",
    "    #n_hits.append(np.sum(event[0][:,0]))\n",
    "    #print(func(points[0], event))\n",
    "    #print('-------------')\n",
    "    \n",
    "    args = (np.array(event), False, False, [None])\n",
    "    m = minimize(func, np.random.normal(Truth[i]), method='Nelder-Mead', bounds=bounds, args=args)\n",
    "    LLHs.append(m.fun)\n",
    "    Reco.append(m.x)\n",
    "    Grads.append(gradients2(event, func, m.x[:4]))\n",
    "    #print(m.fun)\n",
    "    #print('-------------')\n",
    "    \n",
    "LLHs, Reco, n_hits, Grads = np.array(LLHs), np.array(Reco), np.array(n_hits), np.array(Grads)"
   ]
  },
  {
   "cell_type": "code",
   "execution_count": null,
   "metadata": {},
   "outputs": [],
   "source": [
    "fig = plt.figure(figsize=(20, 12))\n",
    "plt.suptitle('Reco - Truth', size=20, y=.91)\n",
    "\n",
    "plt.subplot(2,3,1)\n",
    "x_diff = Reco[:, 0]-Truth[:, 0]\n",
    "plt.hist(x_diff, np.linspace(-2,2,50))\n",
    "plt.axvline(0, color='black', linestyle='--')\n",
    "plt.text(-2, 0.06*N, 'std=%.2f'%(np.std(x_diff)), size=16)\n",
    "plt.text(-2, 0.03*N, 'iqr=%.2f'%(stats.iqr(x_diff)), size=16)\n",
    "plt.xlabel('x')\n",
    "\n",
    "plt.subplot(2,3,2)\n",
    "y_diff = Reco[:, 1]-Truth[:, 1]\n",
    "plt.hist(y_diff, np.linspace(-2,2,50))\n",
    "plt.axvline(0, color='black', linestyle='--')\n",
    "plt.text(-2, 0.06*N, 'std=%.2f'%(np.std(y_diff)), size=16)\n",
    "plt.text(-2, 0.03*N, 'iqr=%.2f'%(stats.iqr(y_diff)), size=16)\n",
    "plt.xlabel('y')\n",
    "\n",
    "plt.subplot(2,3,3)\n",
    "t_diff = Reco[:, 2]-Truth[:, 2]\n",
    "plt.hist(t_diff, np.linspace(-1,1,50))\n",
    "plt.axvline(0, color='black', linestyle='--')\n",
    "plt.text(-1, 0.06*N, 'std=%.2f'%(np.std(t_diff)), size=16)\n",
    "plt.text(-1, 0.03*N, 'iqr=%.2f'%(stats.iqr(t_diff)), size=16)\n",
    "plt.xlabel('t')\n",
    "\n",
    "plt.subplot(2,3,4)\n",
    "E_diff = Reco[:, 3]-Truth[:, 3]\n",
    "plt.hist(E_diff, np.linspace(-10,10,50))\n",
    "plt.axvline(0, color='black', linestyle='--')\n",
    "plt.text(-10, 0.04*N, 'std=%.2f'%(np.std(E_diff)), size=16)\n",
    "plt.text(-10, 0.02*N, 'iqr=%.2f'%(stats.iqr(E_diff)), size=16)\n",
    "plt.xlabel('E')\n",
    "\n",
    "plt.subplot(2,3,5)\n",
    "a_diff = Reco[:, 4]-Truth[:, 4]\n",
    "a_diff = np.where(a_diff<-np.pi, a_diff+2*np.pi, a_diff)\n",
    "a_diff = np.where(a_diff>np.pi, a_diff-2*np.pi, a_diff)\n",
    "plt.hist(a_diff, np.linspace(-np.pi, np.pi, 50))\n",
    "plt.axvline(0, color='black', linestyle='--')\n",
    "plt.text(-np.pi, 0.06*N, 'std=%.2f'%(np.std(a_diff)), size=16)\n",
    "plt.text(-np.pi, 0.03*N, 'iqr=%.2f'%(stats.iqr(a_diff)), size=16)\n",
    "plt.xlabel('azi')\n",
    "\n",
    "#plt.savefig('../../plots/uncertainties/from_dLLH/toy/reco_dists_wrongLLH', bbox_inches='tight') #_truthSeeded"
   ]
  },
  {
   "cell_type": "code",
   "execution_count": null,
   "metadata": {},
   "outputs": [],
   "source": [
    "1/np.sqrt(np.average(Grads,axis=0))"
   ]
  },
  {
   "cell_type": "markdown",
   "metadata": {},
   "source": [
    "time"
   ]
  },
  {
   "cell_type": "code",
   "execution_count": null,
   "metadata": {},
   "outputs": [],
   "source": [
    "plt.scatter(n_hits, Grads[:, 2])\n",
    "plt.xlabel('# hits')\n",
    "plt.ylabel('time curvature')\n",
    "#plt.savefig('../../plots/toy_model/time_nHits_curvature', bbox_inches='tight')"
   ]
  },
  {
   "cell_type": "code",
   "execution_count": null,
   "metadata": {},
   "outputs": [],
   "source": [
    "bin_edges = np.linspace(1, 175, 41)\n",
    "bin_center = (bin_edges[:-1]+bin_edges[1:])/2\n",
    "stds, std_err, means = [], [], []\n",
    "for i in range(len(bin_center)):\n",
    "    stds.append(np.std(t_diff[(n_hits<bin_edges[i+1]) & (n_hits>bin_edges[i])]))\n",
    "    std_err.append(stds[-1]/np.sqrt(len(t_diff[(n_hits<bin_edges[i+1]) & (n_hits>bin_edges[i])])))\n",
    "    means.append(np.mean(t_diff[(n_hits<bin_edges[i+1]) & (n_hits>bin_edges[i])]))\n",
    "    #print(len(t_diff[(n_hits<bin_edges[i+1]) & (n_hits>bin_edges[i])]))"
   ]
  },
  {
   "cell_type": "code",
   "execution_count": null,
   "metadata": {},
   "outputs": [],
   "source": [
    "np.sqrt(1/np.average(n_hits[(n_hits<175) & (n_hits>0)])), np.average(np.sqrt(1/n_hits[(n_hits<175) & (n_hits>0)]))"
   ]
  },
  {
   "cell_type": "code",
   "execution_count": null,
   "metadata": {},
   "outputs": [],
   "source": [
    "theo_lim = np.sqrt(1/np.average(n_hits[n_hits<175]))\n",
    "plt.plot(bin_center, np.sqrt(1/bin_center), label='theoretical limit (%.2f)'%(theo_lim))\n",
    "plt.errorbar(bin_center, stds, std_err, fmt='o', label='from fit (%.2f)'%(np.std(t_diff[n_hits<175])))\n",
    "#plt.scatter(bin_center, means)\n",
    "plt.legend()\n",
    "plt.xlabel('# hits')\n",
    "plt.ylabel('time resolution (std)')\n",
    "plt.ylim(0, 0.6)\n",
    "\n",
    "#plt.savefig('../../plots/toy_model/time_resolution_nHits', bbox_inches='tight')"
   ]
  },
  {
   "cell_type": "code",
   "execution_count": null,
   "metadata": {},
   "outputs": [],
   "source": [
    "theos, reals, stops = [], [], np.linspace(0, 150, 20)\n",
    "for s in stops:\n",
    "    theos.append(np.sqrt(1/np.average(n_hits[(n_hits<175)&(n_hits>s)])))\n",
    "    reals.append(np.std(t_diff[(n_hits<175)&(n_hits>s)]))"
   ]
  },
  {
   "cell_type": "code",
   "execution_count": null,
   "metadata": {},
   "outputs": [],
   "source": [
    "plt.scatter(stops, theos, label='theoretical limit')\n",
    "plt.scatter(stops, reals, label='from fit')\n",
    "plt.legend()\n",
    "plt.xlabel('from 175 down to # hits considered')\n",
    "plt.ylabel('time resolution (std)')\n",
    "\n",
    "#plt.savefig('../../plots/toy_model/time_resolution_nHits_diff', bbox_inches='tight')"
   ]
  },
  {
   "cell_type": "markdown",
   "metadata": {},
   "source": [
    "energy"
   ]
  },
  {
   "cell_type": "code",
   "execution_count": null,
   "metadata": {},
   "outputs": [],
   "source": [
    "plt.scatter(n_hits/Reco[:, 3]**2, Grads[:, 3])\n",
    "plt.xlabel('total charge / E²')\n",
    "plt.ylabel('energy curvature')\n",
    "plt.xlim(0,4)\n",
    "plt.ylim(0,4)\n",
    "#plt.savefig('../../plots/toy_model/energy_qual_curvature', bbox_inches='tight')"
   ]
  },
  {
   "cell_type": "code",
   "execution_count": null,
   "metadata": {},
   "outputs": [],
   "source": [
    "E_qual = n_hits/Reco[:, 3]**2 #Grads[:,3]\n",
    "bin_edges = np.logspace(-1, 0.6, 41)\n",
    "bin_center = (bin_edges[:-1]+bin_edges[1:])/2\n",
    "stds, std_err, means = [], [], []\n",
    "for i in range(len(bin_center)):\n",
    "    stds.append(np.std(E_diff[(E_qual<bin_edges[i+1]) & (E_qual>bin_edges[i])]))\n",
    "    std_err.append(stds[-1]/np.sqrt(len(E_diff[(E_qual<bin_edges[i+1]) & (E_qual>bin_edges[i])])))\n",
    "    means.append(np.mean(E_diff[(E_qual<bin_edges[i+1]) & (E_qual>bin_edges[i])]))\n",
    "    #print(len(E_diff[(E_qual<bin_edges[i+1]) & (E_qual>bin_edges[i])]))"
   ]
  },
  {
   "cell_type": "code",
   "execution_count": null,
   "metadata": {},
   "outputs": [],
   "source": [
    "np.sqrt(1/(np.average(E_qual[(E_qual<4)&(E_qual>0)]))), np.average(np.sqrt(1/(E_qual[(E_qual<4)&(E_qual>0)])))"
   ]
  },
  {
   "cell_type": "code",
   "execution_count": null,
   "metadata": {
    "scrolled": false
   },
   "outputs": [],
   "source": [
    "theo_lim = np.sqrt(1/(np.average(E_qual[(E_qual<4)])))\n",
    "plt.plot(bin_center, np.sqrt(1/bin_center), label='theoretical limit (%.2f)'%(theo_lim))\n",
    "plt.errorbar(bin_center, stds, std_err, fmt='o', label='from fit (%.2f)'%(np.std(E_diff[(E_qual<4)])))\n",
    "#plt.scatter(bin_center, means)\n",
    "plt.legend()\n",
    "plt.xlabel('total charge / E²')\n",
    "plt.ylabel('E resolution (std)') #bias (mean)\n",
    "plt.ylim(0,3)\n",
    "\n",
    "#plt.savefig('../../plots/toy_model/E_resolution_', bbox_inches='tight')"
   ]
  },
  {
   "cell_type": "markdown",
   "metadata": {},
   "source": [
    "xy"
   ]
  },
  {
   "cell_type": "code",
   "execution_count": null,
   "metadata": {},
   "outputs": [],
   "source": [
    "#plt.hist(Grads[:,0],100, alpha=0.5)\n",
    "#plt.hist(Grads[:,1],100, alpha=0.5)\n",
    "plt.scatter(Grads[:,0], Grads[:,1])\n",
    "plt.xlabel('x curvature')\n",
    "plt.ylabel('y curvature')\n",
    "#plt.savefig('../../plots/toy_model/xy_curvature_curvature', bbox_inches='tight')"
   ]
  },
  {
   "cell_type": "code",
   "execution_count": null,
   "metadata": {},
   "outputs": [],
   "source": [
    "x_qual = Grads[:,0]\n",
    "bin_edges = np.linspace(1, 100, 41)\n",
    "bin_center = (bin_edges[:-1]+bin_edges[1:])/2\n",
    "stds, std_err, means = [], [], []\n",
    "for i in range(len(bin_center)):\n",
    "    stds.append(np.std(x_diff[(x_qual<bin_edges[i+1]) & (x_qual>bin_edges[i])]))\n",
    "    std_err.append(stds[-1]/np.sqrt(len(x_diff[(x_qual<bin_edges[i+1]) & (x_qual>bin_edges[i])])))\n",
    "    means.append(np.mean(x_diff[(x_qual<bin_edges[i+1]) & (x_qual>bin_edges[i])]))"
   ]
  },
  {
   "cell_type": "code",
   "execution_count": null,
   "metadata": {},
   "outputs": [],
   "source": [
    "theo_lim = np.sqrt(1/(np.average(x_qual[(x_qual<100)&(x_qual>1)])))\n",
    "plt.plot(bin_center, np.sqrt(1/bin_center), label='theoretical limit (%.2f)'%(theo_lim))\n",
    "plt.errorbar(bin_center, stds, std_err, fmt='o', label='from fit (%.2f)'%(np.std(x_diff[(x_qual<100)&(x_qual>1)])))\n",
    "#plt.scatter(bin_center, means)\n",
    "plt.legend()\n",
    "plt.xlabel('x curvature')\n",
    "plt.ylabel('x resolution (std)')\n",
    "plt.ylim(0,0.8)\n",
    "\n",
    "#plt.savefig('../../plots/toy_model/x_resolution_curvature', bbox_inches='tight')"
   ]
  },
  {
   "cell_type": "code",
   "execution_count": null,
   "metadata": {},
   "outputs": [],
   "source": [
    "y_qual = Grads[:,1]\n",
    "bin_edges = np.linspace(1, 100, 41)\n",
    "bin_center = (bin_edges[:-1]+bin_edges[1:])/2\n",
    "stds, std_err, means = [], [], []\n",
    "for i in range(len(bin_center)):\n",
    "    stds.append(np.std(y_diff[(y_qual<bin_edges[i+1]) & (y_qual>bin_edges[i])]))\n",
    "    std_err.append(stds[-1]/np.sqrt(len(y_diff[(y_qual<bin_edges[i+1]) & (y_qual>bin_edges[i])])))\n",
    "    means.append(np.mean(y_diff[(y_qual<bin_edges[i+1]) & (y_qual>bin_edges[i])]))"
   ]
  },
  {
   "cell_type": "code",
   "execution_count": null,
   "metadata": {},
   "outputs": [],
   "source": [
    "theo_lim = np.sqrt(1/(np.average(y_qual[(y_qual<100)&(y_qual>1)])))\n",
    "plt.plot(bin_center, np.sqrt(1/bin_center), label='theoretical limit (%.2f)'%(theo_lim))\n",
    "plt.errorbar(bin_center, stds, std_err, fmt='o', label='from fit (%.2f)'%(np.std(y_diff[(y_qual<100)&(y_qual>1)])))\n",
    "#plt.scatter(bin_center, means)\n",
    "plt.legend()\n",
    "plt.xlabel('y curvature')\n",
    "plt.ylabel('y resolution (std)')\n",
    "plt.ylim(0,0.8)\n",
    "\n",
    "#plt.savefig('../../plots/toy_model/y_resolution_curvature', bbox_inches='tight')"
   ]
  },
  {
   "cell_type": "markdown",
   "metadata": {},
   "source": [
    "## Fisher info mat"
   ]
  },
  {
   "cell_type": "code",
   "execution_count": null,
   "metadata": {},
   "outputs": [],
   "source": [
    "def FishMatCalculator(event, LLH_service, fit_point):\n",
    "    N = len(fit_point)\n",
    "\n",
    "    grads = gradients2(event, LLH_service, fit_point) #, d=.1\n",
    "    \n",
    "    FisherMatrix = np.zeros((N,N))\n",
    "    for i in range(N):\n",
    "        for j in range(N):\n",
    "            if i==j: \n",
    "                FisherMatrix[i, j] = grads[i]\n",
    "            else:\n",
    "                FisherMatrix[i, j] = gradientsM(event, LLH_service, fit_point, i, j)\n",
    "    \n",
    "    if np.isnan(FisherMatrix).any() or np.isinf(FisherMatrix).any():\n",
    "        print('ERROR: Fisher Matrix has invalid values. Continue...')\n",
    "        return\n",
    "\n",
    "    f = TikhonovCorrection(FisherMatrix)\n",
    "\n",
    "    return f\n",
    "\n",
    "def TikhonovCorrection(FisherMatrix, threshold=0.001):\n",
    "    if (np.linalg.eigvals(FisherMatrix) < 0).any():\n",
    "        #print('negative eigenvalues detected...')\n",
    "        if (np.linalg.eigvals(FisherMatrix) > -threshold).all():\n",
    "            #print('neg. EV seem quite small. Trying Tikhonov correction...')\n",
    "            correction = 0\n",
    "            # find appropriate correction value first:\n",
    "            for eigval in np.linalg.eigvals(FisherMatrix):\n",
    "                if eigval < 0 and abs(eigval) > correction:\n",
    "                    correction = abs(eigval)*2\n",
    "            for k in range(0,5):\n",
    "                FisherMatrix[k,k] += correction\n",
    "            #if (np.linalg.eigvals(FisherMatrix) >= 0).all():\n",
    "            #    print('...worked!')\n",
    "    return FisherMatrix"
   ]
  },
  {
   "cell_type": "code",
   "execution_count": null,
   "metadata": {},
   "outputs": [],
   "source": [
    "keep = []\n",
    "F = np.zeros((4, 4))\n",
    "for i in range(N):\n",
    "    event = events[i]\n",
    "    if np.sum(event[0][:, 0]) <= 4:\n",
    "        continue\n",
    "    else:\n",
    "        keep.append(i)\n",
    "        \n",
    "    F += FishMatCalculator(event, func, np.array(Reco[i][:4]))\n",
    "\n",
    "F = F/len(keep)\n",
    "cov = np.linalg.inv(F)"
   ]
  },
  {
   "cell_type": "code",
   "execution_count": null,
   "metadata": {},
   "outputs": [],
   "source": [
    "plt.imshow(np.abs(F), norm=LogNorm())\n",
    "plt.colorbar()\n",
    "plt.xticks(range(4), ['x', 'y', 't', 'E']) #, 'azi'\n",
    "plt.yticks(range(4), ['x', 'y', 't', 'E']) #, 'azi'\n",
    "for i in range(4):\n",
    "    for j in range(4):\n",
    "        plt.text(i, j, '%.2f'%(F[i][j]), size=14, ha='center', va='center')\n",
    "#plt.savefig('../../plots/toy_model/Fisher_mat', bbox_inches='tight')"
   ]
  },
  {
   "cell_type": "code",
   "execution_count": null,
   "metadata": {},
   "outputs": [],
   "source": [
    "plt.scatter(range(4), np.sqrt(cov.diagonal()))\n",
    "plt.xticks(range(4), ['x', 'y', 't', 'E']) #, 'azi'\n",
    "#plt.yscale('log')\n",
    "for i, r in enumerate(np.sqrt(cov.diagonal())): \n",
    "    plt.text(i, r, '%.3f'%(r), size=16, ha='center')\n",
    "#plt.savefig('../../plots/toy_model/Fisher_resolutions', bbox_inches='tight')"
   ]
  },
  {
   "cell_type": "code",
   "execution_count": null,
   "metadata": {},
   "outputs": [],
   "source": [
    "np.sqrt(1/F.diagonal())"
   ]
  },
  {
   "cell_type": "code",
   "execution_count": null,
   "metadata": {},
   "outputs": [],
   "source": []
  }
 ],
 "metadata": {
  "kernelspec": {
   "display_name": "Python 3",
   "language": "python",
   "name": "python3"
  },
  "language_info": {
   "codemirror_mode": {
    "name": "ipython",
    "version": 3
   },
   "file_extension": ".py",
   "mimetype": "text/x-python",
   "name": "python",
   "nbconvert_exporter": "python",
   "pygments_lexer": "ipython3",
   "version": "3.6.9"
  }
 },
 "nbformat": 4,
 "nbformat_minor": 4
}

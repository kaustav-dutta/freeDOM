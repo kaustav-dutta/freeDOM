{
 "cells": [
  {
   "cell_type": "code",
   "execution_count": null,
   "metadata": {},
   "outputs": [],
   "source": [
    "import numpy as np\n",
    "import matplotlib.pyplot as plt\n",
    "import pickle\n",
    "import dama as dm\n",
    "#import tensorflow as tf\n",
    "#import tensorflow_addons as tfa\n",
    "\n",
    "from matplotlib.colors import LogNorm\n",
    "from scipy import stats\n",
    "from scipy.optimize import minimize\n",
    "from scipy.optimize import curve_fit\n",
    "from multiprocessing import Process, Pool"
   ]
  },
  {
   "cell_type": "code",
   "execution_count": null,
   "metadata": {},
   "outputs": [],
   "source": [
    "params = {'legend.fontsize': 17,\n",
    "          'figure.figsize': (15, 9.3),\n",
    "          'axes.labelsize': 24,\n",
    "          'axes.titlesize': 24,\n",
    "          'xtick.labelsize': 22,\n",
    "          'ytick.labelsize': 22}\n",
    "plt.rcParams.update(params)\n",
    "\n",
    "par_names = ['x', 'y', 't', 'E', 'azi']\n",
    "data_path = '../../../freedom/resources/toy_data/'\n",
    "plot_path = '../../../plots/toy_model/'\n",
    "\n",
    "def correct_azi(azi):\n",
    "    azi = np.where(azi<-np.pi, azi+2*np.pi, azi)\n",
    "    return np.where(azi>np.pi, azi-2*np.pi, azi)"
   ]
  },
  {
   "cell_type": "markdown",
   "metadata": {},
   "source": [
    "## Create events"
   ]
  },
  {
   "cell_type": "code",
   "execution_count": null,
   "metadata": {},
   "outputs": [],
   "source": [
    "N = 10000\n",
    "#events2, Truth2 = toy_experiment.generate_events(N, xlims=(-12,12), blims=(-12,12), N_lims=(3,40))\n",
    "#Truth2 = np.insert(Truth2, 2, 0, axis=1)\n",
    "\n",
    "events = np.load('../../../freedom/resources/toy_data/toy_events_test.npy', allow_pickle=True)[:N]\n",
    "Truth = np.load('../../../freedom/resources/toy_data/toy_truth_test.npy')[:N]"
   ]
  },
  {
   "cell_type": "code",
   "execution_count": null,
   "metadata": {},
   "outputs": [],
   "source": [
    "#events = np.concatenate([events, events2])\n",
    "#Truth = np.concatenate([Truth, Truth2])\n",
    "\n",
    "#np.save('../../../freedom/resources/toy_data/toy_events_test', events)\n",
    "#np.save('../../../freedom/resources/toy_data/toy_truth_test', Truth)"
   ]
  },
  {
   "cell_type": "markdown",
   "metadata": {},
   "source": [
    "## Reco events"
   ]
  },
  {
   "cell_type": "code",
   "execution_count": null,
   "metadata": {},
   "outputs": [],
   "source": [
    "bounds = np.array([[-12,12], [-12,12], [-5,5], [3,40], [0, 2*np.pi]])"
   ]
  },
  {
   "cell_type": "markdown",
   "metadata": {},
   "source": [
    "#### true LLH"
   ]
  },
  {
   "cell_type": "code",
   "execution_count": null,
   "metadata": {},
   "outputs": [],
   "source": [
    "from freedom.toy_model import advanced_toy_model\n",
    "detectors = np.vstack([np.repeat(np.linspace(-10, 10, 5), 5), np.tile(np.linspace(-10, 10, 5), 5)]).T\n",
    "toy_experiment = advanced_toy_model.advanced_toy_experiment(detectors=detectors, isotrop=False)\n",
    "\n",
    "def LLH(X, event, only_c=False, only_h=False, fix=[None], bounds=bounds):\n",
    "    #X: hypo_x, hypo_y, hypo_t, hypo_N_src, hypo_ang\n",
    "    assert only_c + only_h < 2\n",
    "    \n",
    "    if fix[0] != None:\n",
    "        X = np.insert(X, fix[0], fix[1])\n",
    "        \n",
    "    if ~np.alltrue(np.logical_and(bounds[:,0] <= X, X <= bounds[:,1]), axis=-1):\n",
    "        return 1e9\n",
    "    \n",
    "    pos = np.array([X[0], X[1]])\n",
    "    c_term = -toy_experiment.charge_term(event[0], pos, X[3], X[4])\n",
    "    h_term = -toy_experiment.hit_term(event[1], pos, X[2], X[3], X[4])\n",
    "    \n",
    "    if only_c: return c_term\n",
    "    if only_h: return h_term\n",
    "    return c_term + h_term"
   ]
  },
  {
   "cell_type": "code",
   "execution_count": null,
   "metadata": {},
   "outputs": [],
   "source": [
    "def fit_event(event):\n",
    "    event, Truth = event\n",
    "    \n",
    "    # seeding\n",
    "    seed = np.random.normal(Truth, [2,2,1,5,0.5])\n",
    "    seed = np.maximum(seed, bounds[:, 0])\n",
    "    seed = np.minimum(seed, bounds[:, 1])\n",
    "    \n",
    "    # free fit\n",
    "    args = (np.array(event), False, False, [None])\n",
    "    fit_res = minimize(LLH, seed, method='Nelder-Mead', args=args)\n",
    "    out = fit_res.x\n",
    "    \n",
    "    # 1 param fixed fit\n",
    "    for i in range(5):\n",
    "        args, mask = (np.array(event), False, False, [i, Truth[i]]), [x for x in range(5) if x != i]\n",
    "        m = minimize(LLH, fit_res.x[mask], method='Nelder-Mead', args=args) #seed\n",
    "        dllh = m.fun-fit_res.fun\n",
    "        out = np.append(out, dllh)\n",
    "    \n",
    "    return list(out)"
   ]
  },
  {
   "cell_type": "code",
   "execution_count": null,
   "metadata": {},
   "outputs": [],
   "source": [
    "%%time\n",
    "with Pool(6) as p:\n",
    "    outs = p.map(fit_event, zip(events, Truth))"
   ]
  },
  {
   "cell_type": "code",
   "execution_count": null,
   "metadata": {},
   "outputs": [],
   "source": [
    "#np.save('../../../freedom/resources/toy_data/toy_reco_trueLLH_NM_randomSeed', outs)"
   ]
  },
  {
   "cell_type": "markdown",
   "metadata": {},
   "source": [
    "#### NN LLH"
   ]
  },
  {
   "cell_type": "code",
   "execution_count": null,
   "metadata": {},
   "outputs": [],
   "source": [
    "import math\n",
    "\n",
    "from functools import partial\n",
    "from freedom.llh_service.llh_service import LLHService\n",
    "from freedom.llh_service.llh_client import LLHClient\n",
    "from freedom.reco import crs_reco"
   ]
  },
  {
   "cell_type": "code",
   "execution_count": null,
   "metadata": {},
   "outputs": [],
   "source": [
    "loc = '../../../freedom/resources/models/toy/'\n",
    "service_conf = {\n",
    "        \"poll_timeout\": 1,\n",
    "        \"flush_period\": 1,\n",
    "        \"n_hypo_params\": 5,\n",
    "        \"n_hit_features\": 3,\n",
    "        \"n_evt_features\": 2,\n",
    "        \"batch_size\" : {\n",
    "          \"n_hypos\": 200,\n",
    "          \"n_observations\": 6000, \n",
    "        },\n",
    "        \"send_hwm\": 10000,\n",
    "        \"recv_hwm\": 10000,\n",
    "        \"hitnet_file\": loc+'hitNet.hdf5',\n",
    "        \"chargenet_file\": loc+'chargeNet_new.hdf5',\n",
    "}"
   ]
  },
  {
   "cell_type": "code",
   "execution_count": null,
   "metadata": {},
   "outputs": [],
   "source": [
    "n_gpus = 4\n",
    "\n",
    "base_req = \"ipc:///tmp/recotestreq\"\n",
    "base_ctrl = \"ipc:///tmp/recotestctrl\"\n",
    "\n",
    "req_addrs = []\n",
    "ctrl_addrs = []\n",
    "for i in range(n_gpus):\n",
    "    req_addrs.append(f'{base_req}{i}')\n",
    "    ctrl_addrs.append(f'{base_ctrl}{i}')\n",
    "    \n",
    "procs = []\n",
    "for i in range(n_gpus):\n",
    "    proc = Process(target=crs_reco.start_service, args=(service_conf, ctrl_addrs[i], req_addrs[i], i))\n",
    "    proc.start()\n",
    "    procs.append(proc)"
   ]
  },
  {
   "cell_type": "code",
   "execution_count": null,
   "metadata": {},
   "outputs": [],
   "source": [
    "def fit_events(events, index, Truths, ctrl_addrs, truth_seed=False, method='Nelder-Mead'):\n",
    "    outputs = []\n",
    "\n",
    "    client = LLHClient(ctrl_addr=ctrl_addrs[index], conf_timeout=60000)\n",
    "    def eval_llh(params, event, fix=[None]):\n",
    "        if fix[0] != None:\n",
    "            params = np.insert(params, fix[0], fix[1])\n",
    "            \n",
    "        if ~np.alltrue(np.logical_and(bounds[:,0] <= params, params <= bounds[:,1]), axis=-1):\n",
    "            return 1e9\n",
    "        \n",
    "        return client.eval_llh(event[1][:, :3], event[0], params)\n",
    "\n",
    "    for j, event in enumerate(events):\n",
    "        # seeding\n",
    "        if truth_seed:\n",
    "            seed = Truths[j]\n",
    "        else:\n",
    "            seed = np.random.normal(Truths[j], [2,2,1,5,0.5])\n",
    "        seed = np.maximum(seed, bounds[:, 0])\n",
    "        seed = np.minimum(seed, bounds[:, 1])\n",
    "        \n",
    "        #free fit\n",
    "        args = (event, [None])\n",
    "        fit_res = minimize(eval_llh, seed, method=method, args=args)\n",
    "        out = fit_res.x\n",
    "        \n",
    "        # 1 param fixed fit\n",
    "        for i in range(5):\n",
    "            args, mask = (event, [i, Truths[j][i]]), [x for x in range(5) if x != i]\n",
    "            m = minimize(eval_llh, fit_res.x[mask], method=method, args=args) #seed\n",
    "            dllh = m.fun-fit_res.fun\n",
    "            out = np.append(out, dllh)\n",
    "            \n",
    "        outputs.append(out)\n",
    "\n",
    "    return outputs"
   ]
  },
  {
   "cell_type": "code",
   "execution_count": null,
   "metadata": {},
   "outputs": [],
   "source": [
    "events_to_process = len(events) #1000\n",
    "pool_size = 200\n",
    "evts_per_proc = int(math.ceil(events_to_process/pool_size))\n",
    "evt_splits = [events[i*evts_per_proc:(i+1)*evts_per_proc] for i in range(pool_size)]\n",
    "true_splits = [Truth[i*evts_per_proc:(i+1)*evts_per_proc] for i in range(pool_size)]\n",
    "print(sum(len(l) for l in evt_splits))\n",
    "\n",
    "gpu_inds = np.arange(pool_size) % n_gpus\n",
    "\n",
    "fit_events_partial = partial(\n",
    "        fit_events,\n",
    "        ctrl_addrs=ctrl_addrs,\n",
    "        truth_seed=True,\n",
    "        #method='Powell'\n",
    ")"
   ]
  },
  {
   "cell_type": "code",
   "execution_count": null,
   "metadata": {
    "scrolled": true
   },
   "outputs": [],
   "source": [
    "%%time\n",
    "# reconstruct with a worker pool; one LLH client per worker\n",
    "with Pool(pool_size) as p:\n",
    "    outs = p.starmap(fit_events_partial, zip(evt_splits, gpu_inds, true_splits))\n",
    "\n",
    "all_outs = sum((out for out in outs), [])\n",
    "all_outs = np.array(all_outs).reshape((events_to_process, 10))"
   ]
  },
  {
   "cell_type": "code",
   "execution_count": null,
   "metadata": {
    "scrolled": false
   },
   "outputs": [],
   "source": [
    "#np.save('../../../freedom/resources/toy_data/toy_reco_nnLLH_NM_truthSeed', all_outs)"
   ]
  },
  {
   "cell_type": "code",
   "execution_count": null,
   "metadata": {},
   "outputs": [],
   "source": [
    "# kill all the services\n",
    "import zmq\n",
    "for proc, ctrl_addr in zip(procs, ctrl_addrs): \n",
    "    with zmq.Context.instance().socket(zmq.REQ) as ctrl_sock:\n",
    "        ctrl_sock.connect(ctrl_addr)\n",
    "        ctrl_sock.send_string(\"die\")\n",
    "        proc.join()"
   ]
  },
  {
   "cell_type": "markdown",
   "metadata": {},
   "source": [
    "#### plots"
   ]
  },
  {
   "cell_type": "code",
   "execution_count": null,
   "metadata": {},
   "outputs": [],
   "source": [
    "Reco, dLLH = np.split(np.load(data_path+'toy_reco_trueLLH_NM_truthSeed.npy'), 2, axis=1)\n",
    "#Reco, dLLH = np.split(np.load(data_path+'toy_reco_nnLLH_PW_truthSeed.npy'), 2, axis=1)\n",
    "Reco_NN, dLLH_NN = np.split(np.load(data_path+'toy_reco_nnLLH_NM_truthSeed.npy'), 2, axis=1)\n",
    "Truth = np.load('../../../freedom/resources/toy_data/toy_truth_test.npy')[:len(Reco_NN)]"
   ]
  },
  {
   "cell_type": "code",
   "execution_count": null,
   "metadata": {},
   "outputs": [],
   "source": [
    "def plot_diff(diff, bins, label):\n",
    "    plt.hist(diff, bins, label=label + ' (std=%.2f, iqr=%.2f)'%(np.std(diff), stats.iqr(diff)), alpha=0.5)\n",
    "    if 'true' in label:\n",
    "        o, c = 0.05, 'tab:Blue'\n",
    "    else:\n",
    "        o, c = 0.11, 'tab:Orange'"
   ]
  },
  {
   "cell_type": "code",
   "execution_count": null,
   "metadata": {},
   "outputs": [],
   "source": [
    "fig = plt.figure(figsize=(20, 12))\n",
    "plt.suptitle('Reco - Truth', size=20, y=.91)\n",
    "label1, label2 = 'true LLH', 'NN LLH'\n",
    "\n",
    "plt.subplot(2,3,1)\n",
    "plt.axvline(0, color='black', linestyle='--')\n",
    "plot_diff(Reco[:, 0]-Truth[:, 0], np.linspace(-3,3,50), label1)\n",
    "plot_diff(Reco_NN[:, 0]-Truth[:, 0], np.linspace(-3,3,50), label2)\n",
    "plt.legend()\n",
    "plt.xlabel('x')\n",
    "\n",
    "plt.subplot(2,3,2)\n",
    "plt.axvline(0, color='black', linestyle='--')\n",
    "plot_diff(Reco[:, 1]-Truth[:, 1], np.linspace(-3,3,50), label1)\n",
    "plot_diff(Reco_NN[:, 1]-Truth[:, 1], np.linspace(-3,3,50), label2)\n",
    "plt.legend()\n",
    "plt.xlabel('y')\n",
    "\n",
    "plt.subplot(2,3,3)\n",
    "plt.axvline(0, color='black', linestyle='--')\n",
    "plot_diff(Reco[:, 2]-Truth[:, 2], np.linspace(-1,1,50), label1)\n",
    "plot_diff(Reco_NN[:, 2]-Truth[:, 2], np.linspace(-1,1,50), label2)\n",
    "plt.legend()\n",
    "plt.xlabel('t')\n",
    "\n",
    "plt.subplot(2,3,4)\n",
    "plt.axvline(0, color='black', linestyle='--')\n",
    "plot_diff(Reco[:, 3]-Truth[:, 3], np.linspace(-20,20,50), label1)\n",
    "plot_diff(Reco_NN[:, 3]-Truth[:, 3], np.linspace(-20,20,50), label2)\n",
    "plt.legend()\n",
    "plt.xlabel('E')\n",
    "\n",
    "plt.subplot(2,3,5)\n",
    "plt.axvline(0, color='black', linestyle='--')\n",
    "plot_diff(correct_azi(Reco[:, 4]-Truth[:, 4]), np.linspace(-1,1,50), label1)\n",
    "plot_diff(correct_azi(Reco_NN[:, 4]-Truth[:, 4]), np.linspace(-1,1,50), label2)\n",
    "plt.legend()\n",
    "plt.xlabel('azi')\n",
    "\n",
    "#plt.savefig(plot_path+'/reco_dists/reco_dists_NM_truthSeed', bbox_inches='tight')"
   ]
  },
  {
   "cell_type": "code",
   "execution_count": null,
   "metadata": {},
   "outputs": [],
   "source": [
    "diff = Reco[:, 2]-Truth[:, 2]\n",
    "plt.hist(diff[np.abs(diff)>1e-2], 100)\n",
    "np.std(diff[np.abs(diff)>1e-2])"
   ]
  },
  {
   "cell_type": "code",
   "execution_count": null,
   "metadata": {
    "scrolled": true
   },
   "outputs": [],
   "source": [
    "fig = plt.figure(figsize=(20, 12))\n",
    "label1, label2 = 'true LLH', 'NN LLH'\n",
    "\n",
    "for i in range(5):\n",
    "    plt.subplot(2,3,i+1)\n",
    "    plt.plot([min(Truth[:, i]), max(Truth[:, i])], [min(Truth[:, i]), max(Truth[:, i])], color='black', linestyle='--')\n",
    "    plt.scatter(Truth[:, i], Reco[:, i], label=label1)\n",
    "    plt.scatter(Truth[:, i], Reco_NN[:, i], label=label2)\n",
    "    plt.legend()\n",
    "    plt.title(par_names[i])\n",
    "    if i == 4: plt.xlabel('Truth')\n",
    "#plt.text('Reco')\n",
    "\n",
    "#plt.savefig(plot_path+'/dLLH/reco_truth_NM_randomSeed', bbox_inches='tight')"
   ]
  },
  {
   "cell_type": "markdown",
   "metadata": {},
   "source": [
    "## dLLH"
   ]
  },
  {
   "cell_type": "code",
   "execution_count": null,
   "metadata": {},
   "outputs": [],
   "source": [
    "i = 0\n",
    "\n",
    "resi = np.abs(Reco_NN[:,i]-Truth[:,i]) #\n",
    "var = par_names[i]\n",
    "\n",
    "dllh = dLLH_NN[:,i] #\n",
    "dllh_50 = np.percentile(dllh[dllh > 0], 50)\n",
    "dllh_68 = np.percentile(dllh[dllh > 0], 68)\n",
    "\n",
    "print(len(dllh[dllh > 0])/len(dllh))"
   ]
  },
  {
   "cell_type": "code",
   "execution_count": null,
   "metadata": {},
   "outputs": [],
   "source": [
    "plt.title(var)\n",
    "plt.hist(dllh, 100) #np.linspace(-20,20,100)\n",
    "plt.axvline(dllh_68, color='red', linestyle='--', label='68 percentile %.2f'%(dllh_68))\n",
    "plt.legend()\n",
    "plt.xlabel(r'$LLH_{4p} - LLH_{5p}$')\n",
    "plt.ylabel('#events')\n",
    "plt.yscale('log')\n",
    "#plt.savefig('../../../plots/toy_model/dLLH/dLLH_'+var+'_nnLLH', bbox='tight') #+'_truthSeeded'"
   ]
  },
  {
   "cell_type": "code",
   "execution_count": null,
   "metadata": {},
   "outputs": [],
   "source": [
    "dllh_range = np.logspace(-2, 0.6, 10) #-2, 0.3\n",
    "dllh_center = (dllh_range[1:]+dllh_range[:-1])/2\n",
    "medi, mean = [], []\n",
    "for i in range(len(dllh_range)-1):\n",
    "    test = resi[(dllh > dllh_range[i]) & (dllh < dllh_range[i+1])]\n",
    "    if len(test) == 0: test = np.zeros(1)\n",
    "    mean.append(np.mean(test))\n",
    "    medi.append(np.median(test))"
   ]
  },
  {
   "cell_type": "code",
   "execution_count": null,
   "metadata": {},
   "outputs": [],
   "source": [
    "def func(x, a): #, b\n",
    "    return a * np.sqrt(x) #+ b\n",
    "\n",
    "popt_medi, pcov = curve_fit(func, dllh_center, medi)\n",
    "unc_50_medi = func(dllh_50, popt_medi[0]) #, popt_medi[1]\n",
    "\n",
    "popt_mean, pcov = curve_fit(func, dllh_center, mean)\n",
    "unc_68_mean = func(dllh_68, popt_mean[0]) #, popt_mean[1]\n",
    "\n",
    "popt_medi[0], popt_mean[0]"
   ]
  },
  {
   "cell_type": "code",
   "execution_count": null,
   "metadata": {
    "scrolled": false
   },
   "outputs": [],
   "source": [
    "plt.scatter(dllh, resi)\n",
    "\n",
    "plt.scatter(dllh_center, mean, color='r', label='means')\n",
    "plt.plot(dllh_center, func(dllh_center, popt_mean[0]), color='r', label=r'$a\\cdot\\sqrt{x}$ fit to means')\n",
    "plt.axvline(dllh_68, color='red', linestyle='--', label='68 percentile (%.2f, %.2f)'%(dllh_68, unc_68_mean))\n",
    "plt.axhline(unc_68_mean, color='red', linestyle='--')\n",
    "'''\n",
    "plt.scatter(dllh_center, medi, color='black', label='medians')\n",
    "plt.plot(dllh_center, func(dllh_center, popt_medi[0]), color='black', label=r'$a\\cdot\\sqrt{x}$ fit to medians')\n",
    "plt.axvline(dllh_50, color='black', linestyle='--', label='50 percentile (%.2f, %.2f)'%(dllh_50, unc_50_medi))\n",
    "plt.axhline(unc_50_medi, color='black', linestyle='--')\n",
    "'''\n",
    "#plt.axvline(dllh_range[0], color='black')\n",
    "#plt.axvline(dllh_range[-1], color='black')\n",
    "\n",
    "plt.title(var)\n",
    "plt.legend()\n",
    "plt.loglog()\n",
    "plt.xlim(1e-3, 1e2)\n",
    "plt.xlabel(r'$LLH_{4p} - LLH_{5p}$')\n",
    "plt.ylim(1e-3, 15)\n",
    "plt.ylabel('|reco - true|')\n",
    "#plt.savefig('../../../plots/toy_model/dLLH/unc_'+var+'_nnLLH', bbox='tight') #+'_truthSeeded'"
   ]
  },
  {
   "cell_type": "code",
   "execution_count": null,
   "metadata": {},
   "outputs": [],
   "source": []
  }
 ],
 "metadata": {
  "kernelspec": {
   "display_name": "Python 3",
   "language": "python",
   "name": "python3"
  },
  "language_info": {
   "codemirror_mode": {
    "name": "ipython",
    "version": 3
   },
   "file_extension": ".py",
   "mimetype": "text/x-python",
   "name": "python",
   "nbconvert_exporter": "python",
   "pygments_lexer": "ipython3",
   "version": "3.6.9"
  }
 },
 "nbformat": 4,
 "nbformat_minor": 4
}

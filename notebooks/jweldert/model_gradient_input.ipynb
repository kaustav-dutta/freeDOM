{
 "cells": [
  {
   "cell_type": "code",
   "execution_count": null,
   "metadata": {},
   "outputs": [],
   "source": [
    "import pickle\n",
    "import numpy as np\n",
    "import pandas as pd\n",
    "import tensorflow as tf\n",
    "import tensorflow.keras as keras\n",
    "import tensorflow.keras.layers as layers\n",
    "import tensorflow_addons as tfa\n",
    "from matplotlib import pyplot as plt\n",
    "\n",
    "from freedom.neural_nets.transformations import hitnet_trafo, chargenet_trafo\n",
    "from freedom.utils.i3cols_dataloader import load_events"
   ]
  },
  {
   "cell_type": "code",
   "execution_count": null,
   "metadata": {},
   "outputs": [],
   "source": [
    "def imshow_zero_center(image, **kwargs):\n",
    "    lim = tf.reduce_max(abs(image))\n",
    "    plt.figure(figsize=(12,9))\n",
    "    plt.imshow(image, vmin=-lim, vmax=lim, cmap='seismic', **kwargs)\n",
    "    plt.colorbar()"
   ]
  },
  {
   "cell_type": "code",
   "execution_count": null,
   "metadata": {},
   "outputs": [],
   "source": [
    "model_path = \"../../freedom/resources/models/DeepCore/\"\n",
    "model = keras.models.load_model(model_path+'HitNet_ranger_08_Dec_2021-10h53/epoch_50_model.hdf5',\n",
    "                                custom_objects={'hitnet_trafo':hitnet_trafo})\n",
    "model.layers[-1].activation = tf.keras.activations.linear\n",
    "model.compile()"
   ]
  },
  {
   "cell_type": "code",
   "execution_count": null,
   "metadata": {},
   "outputs": [],
   "source": [
    "x = tf.Variable([[1, 1, -350, 11000, 1, 0, 0, 0, np.pi, 0]], name='x_var', dtype=tf.float32)\n",
    "t = tf.Variable([[1, 50, -350, 10770, 4, 1, 10, 10]], name='t_var', dtype=tf.float32)"
   ]
  },
  {
   "cell_type": "markdown",
   "metadata": {},
   "source": [
    "Gradients"
   ]
  },
  {
   "cell_type": "code",
   "execution_count": null,
   "metadata": {},
   "outputs": [],
   "source": [
    "with tf.GradientTape(watch_accessed_variables=False) as tape:\n",
    "    tape.watch(t)\n",
    "    model_vals = model([x, t])\n",
    "\n",
    "model_grad = tape.gradient(model_vals, t)\n",
    "model_grad.numpy()"
   ]
  },
  {
   "cell_type": "markdown",
   "metadata": {},
   "source": [
    "Check gradients"
   ]
  },
  {
   "cell_type": "code",
   "execution_count": null,
   "metadata": {},
   "outputs": [],
   "source": [
    "X = np.tile([1, 1, -350, 11000, 1, 0, 0, 0, np.pi, 0], 100).reshape((100,10))\n",
    "o = np.ones(100)\n",
    "r = np.linspace(10770, 10771, 100)\n",
    "T = np.stack([o, 50*o, -350*o, r, 4*o, o, 10*o, 10*o]).T\n",
    "\n",
    "y = model.predict([X, T])\n",
    "pred = y\n",
    "\n",
    "plt.figure(figsize=(12,9))\n",
    "plt.plot(r, pred, label='LLH')\n",
    "plt.xlabel('time')\n",
    "\n",
    "(pred[1] - pred[0])[0] * 100, model_grad.numpy()[0][3]"
   ]
  },
  {
   "cell_type": "markdown",
   "metadata": {},
   "source": [
    "Hessian"
   ]
  },
  {
   "cell_type": "code",
   "execution_count": null,
   "metadata": {},
   "outputs": [],
   "source": [
    "with tf.GradientTape(watch_accessed_variables=False) as tape2:\n",
    "    tape2.watch(t)\n",
    "    with tf.GradientTape(watch_accessed_variables=False) as tape:\n",
    "        tape.watch(t)\n",
    "        model_vals = model([x, t])\n",
    "\n",
    "    model_grad = tape.gradient(model_vals, t)\n",
    "\n",
    "model_hess = tape2.jacobian(model_grad, t)\n",
    "np.diag(tf.reshape(model_hess, [8, 8])) #model_hess.numpy()"
   ]
  },
  {
   "cell_type": "code",
   "execution_count": null,
   "metadata": {},
   "outputs": [],
   "source": [
    "hess_mat = tf.reshape(model_hess, [8, 8])\n",
    "imshow_zero_center(hess_mat)"
   ]
  },
  {
   "cell_type": "markdown",
   "metadata": {},
   "source": [
    "Fisher/Covariance"
   ]
  },
  {
   "cell_type": "code",
   "execution_count": null,
   "metadata": {},
   "outputs": [],
   "source": [
    "def TikhonovCorrection(FisherMatrix, threshold=0.001):\n",
    "    if (np.linalg.eigvals(FisherMatrix) < 0).any():\n",
    "        #print('negative eigenvalues detected...')\n",
    "        if (np.linalg.eigvals(FisherMatrix) > -threshold).all():\n",
    "            #print('neg. EV seem quite small. Trying Tikhonov correction...')\n",
    "            correction = 0\n",
    "            # find appropriate correction value first:\n",
    "            for eigval in np.linalg.eigvals(FisherMatrix):\n",
    "                if eigval < 0 and abs(eigval) > correction:\n",
    "                    correction = abs(eigval)*2\n",
    "            for k in range(0,7):\n",
    "                FisherMatrix[k,k] += correction\n",
    "            if (np.linalg.eigvals(FisherMatrix) >= 0).all():\n",
    "                print('...worked!')\n",
    "    return FisherMatrix"
   ]
  },
  {
   "cell_type": "code",
   "execution_count": null,
   "metadata": {},
   "outputs": [],
   "source": [
    "fisher_mat = TikhonovCorrection(-hess_mat.numpy())"
   ]
  },
  {
   "cell_type": "code",
   "execution_count": null,
   "metadata": {},
   "outputs": [],
   "source": [
    "cov_mat = np.linalg.inv(fisher_mat)"
   ]
  },
  {
   "cell_type": "code",
   "execution_count": null,
   "metadata": {},
   "outputs": [],
   "source": [
    "np.sqrt(np.diag(cov_mat))"
   ]
  },
  {
   "cell_type": "markdown",
   "metadata": {},
   "source": [
    "Real event"
   ]
  },
  {
   "cell_type": "code",
   "execution_count": null,
   "metadata": {},
   "outputs": [],
   "source": [
    "model_c = keras.models.load_model(model_path+'ChargeNet_ranger_23_Nov_2021-13h51/epoch_2000_model.hdf5',\n",
    "                                  custom_objects={'chargenet_trafo':chargenet_trafo})\n",
    "model_c.layers[-1].activation = tf.keras.activations.linear\n",
    "model_c.compile()"
   ]
  },
  {
   "cell_type": "code",
   "execution_count": null,
   "metadata": {},
   "outputs": [],
   "source": [
    "def calculate_hess(event, h_model, c_model, theta, return_grad=False):\n",
    "    t = tf.Variable(theta)\n",
    "    x_h, x_c = tf.Variable(event['hits']), tf.Variable([event['total_charge']])\n",
    "    \n",
    "    with tf.GradientTape(watch_accessed_variables=False) as tape2:\n",
    "        tape2.watch(t)\n",
    "        with tf.GradientTape(watch_accessed_variables=False) as tape:\n",
    "            tape.watch(t)\n",
    "            \n",
    "            t_h = tf.reshape(tf.tile(t, tf.constant([len(event['hits'])])), (len(event['hits']), 8))\n",
    "            t_c = tf.reshape(t, (1,8))\n",
    "            model_vals = tf.add(tf.math.reduce_sum(tf.multiply(x_h[:, 4], h_model([x_h, t_h])[:, 0])), \n",
    "                                c_model([x_c, t_c])\n",
    "                               )\n",
    "        \n",
    "        model_grad = tape.gradient(model_vals, t)\n",
    "    model_hess = tape2.jacobian(model_grad, t).numpy()\n",
    "\n",
    "    if return_grad:\n",
    "        return model_hess, model_grad\n",
    "    return model_hess"
   ]
  },
  {
   "cell_type": "code",
   "execution_count": null,
   "metadata": {},
   "outputs": [],
   "source": [
    "with open('../../freedom/resources/test_data/test_events.pkl', 'rb') as f:\n",
    "    events = pickle.load(f)[:1000]\n",
    "    \n",
    "df = pd.read_pickle('/tf/localscratch/weldert/freeDOM/recos/OscNext/numu_only_noSmall_50.pkl')[:len(events)]"
   ]
  },
  {
   "cell_type": "code",
   "execution_count": null,
   "metadata": {},
   "outputs": [],
   "source": [
    "N = 0\n",
    "bf = np.array([df.x[N], df.y[N], df.z[N], df.time[N], df.azimuth[N], \n",
    "               df.zenith[N], df['cascade energy'][N], df['track energy'][N]])"
   ]
  },
  {
   "cell_type": "code",
   "execution_count": null,
   "metadata": {},
   "outputs": [],
   "source": [
    "%%time\n",
    "hess_mat, grads = calculate_hess(events[N], model, model_c, bf, True)\n",
    "np.diag(hess_mat)"
   ]
  },
  {
   "cell_type": "code",
   "execution_count": null,
   "metadata": {},
   "outputs": [],
   "source": [
    "fisher_mat = TikhonovCorrection(-hess_mat)"
   ]
  },
  {
   "cell_type": "code",
   "execution_count": null,
   "metadata": {},
   "outputs": [],
   "source": [
    "cov_mat = np.linalg.inv(fisher_mat)"
   ]
  },
  {
   "cell_type": "code",
   "execution_count": null,
   "metadata": {},
   "outputs": [],
   "source": [
    "imshow_zero_center(cov_mat)"
   ]
  },
  {
   "cell_type": "code",
   "execution_count": null,
   "metadata": {},
   "outputs": [],
   "source": [
    "np.sqrt(np.diag(cov_mat))"
   ]
  },
  {
   "cell_type": "code",
   "execution_count": null,
   "metadata": {},
   "outputs": [],
   "source": [
    "events[N]['params'] - bf"
   ]
  },
  {
   "cell_type": "markdown",
   "metadata": {},
   "source": [
    "minimize"
   ]
  },
  {
   "cell_type": "code",
   "execution_count": null,
   "metadata": {},
   "outputs": [],
   "source": [
    "p = np.array(bf)\n",
    "for i in range(10):\n",
    "    hess_mat, grads = calculate_hess(events[N], model, model_c, p, True)\n",
    "    newton_step = -np.matmul(np.linalg.inv(hess_mat), grads)\n",
    "    p += 0.1*newton_step\n",
    "p"
   ]
  },
  {
   "cell_type": "code",
   "execution_count": null,
   "metadata": {},
   "outputs": [],
   "source": [
    "events[N]['params'] - p"
   ]
  },
  {
   "cell_type": "markdown",
   "metadata": {},
   "source": [
    "Many events"
   ]
  },
  {
   "cell_type": "code",
   "execution_count": null,
   "metadata": {},
   "outputs": [],
   "source": [
    "'''\n",
    "resi, std, curv = [], [], []\n",
    "for i, e in enumerate(events):\n",
    "    #if len(e['hits']) > 99:\n",
    "    #    continue\n",
    "    bf = np.array([df.x[i], df.y[i], df.z[i], df.time[i], df.azimuth[i], \n",
    "                   df.zenith[i], df['cascade energy'][i], df['track energy'][i]])\n",
    "    \n",
    "    hess_mat = calculate_hess(e, model, model_c, bf)\n",
    "    fisher_mat = TikhonovCorrection(-hess_mat)\n",
    "    cov_mat = np.linalg.inv(fisher_mat)\n",
    "    \n",
    "    std.append(np.sqrt(np.diag(cov_mat)))\n",
    "    resi.append(e['params'] - bf)\n",
    "    curv.append(-np.diag(hess_mat))\n",
    "'''"
   ]
  },
  {
   "cell_type": "code",
   "execution_count": null,
   "metadata": {},
   "outputs": [],
   "source": [
    "#np.save('resi', resi)\n",
    "#np.save('std', std)\n",
    "#np.save('curv', curv)\n",
    "\n",
    "resi, std, curv = np.load('resi.npy'), np.load('std.npy'), np.load('curv.npy')\n",
    "np.sum(np.isnan(std)), std.shape"
   ]
  },
  {
   "cell_type": "code",
   "execution_count": null,
   "metadata": {},
   "outputs": [],
   "source": [
    "i = 5\n",
    "r, s = np.abs(resi[:, i]), std[:, i]\n",
    "\n",
    "plt.figure(figsize=(12,9))\n",
    "plt.scatter(r[np.isfinite(s)], s[np.isfinite(s)])\n",
    "#plt.scatter(r[10], s[10], color='red')\n",
    "plt.plot([0, np.max(np.abs(resi[:, i]))], [0, np.max(np.abs(resi[:, i]))], c='black')\n",
    "plt.xlabel('|residuum|')\n",
    "plt.ylabel('std from covariance from fisher from hessian')\n",
    "plt.ylim(0,3)\n",
    "plt.xlim(0,3)\n",
    "np.corrcoef(r[np.isfinite(s)], s[np.isfinite(s)])[0][1]"
   ]
  },
  {
   "cell_type": "code",
   "execution_count": null,
   "metadata": {},
   "outputs": [],
   "source": [
    "i = 7\n",
    "r, s = np.abs(resi[:, i]), 1/curv[:, i]\n",
    "\n",
    "plt.figure(figsize=(12,9))\n",
    "plt.scatter(r[np.isfinite(s)], s[np.isfinite(s)])\n",
    "#plt.plot([0, np.max(np.abs(resi[:, i]))], [0, np.max(np.abs(resi[:, i]))], c='black')\n",
    "plt.xlabel('|residuum|')\n",
    "plt.ylabel('-curvature')\n",
    "#plt.ylim(-1,300)\n",
    "#plt.xlim(0,3)\n",
    "np.corrcoef(r[np.isfinite(s)], s[np.isfinite(s)])[0][1]"
   ]
  },
  {
   "cell_type": "code",
   "execution_count": null,
   "metadata": {},
   "outputs": [],
   "source": []
  }
 ],
 "metadata": {
  "kernelspec": {
   "display_name": "Python 3",
   "language": "python",
   "name": "python3"
  },
  "language_info": {
   "codemirror_mode": {
    "name": "ipython",
    "version": 3
   },
   "file_extension": ".py",
   "mimetype": "text/x-python",
   "name": "python",
   "nbconvert_exporter": "python",
   "pygments_lexer": "ipython3",
   "version": "3.6.9"
  }
 },
 "nbformat": 4,
 "nbformat_minor": 2
}

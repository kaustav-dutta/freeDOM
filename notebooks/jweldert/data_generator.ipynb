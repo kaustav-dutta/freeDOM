{
 "cells": [
  {
   "cell_type": "code",
   "execution_count": null,
   "metadata": {},
   "outputs": [],
   "source": [
    "import tensorflow as tf\n",
    "import numpy as np\n",
    "import os\n",
    "import sys\n",
    "\n",
    "os.environ[\"CUDA_VISIBLE_DEVICES\"]=\"0, 1, 2, 3\"\n",
    "\n",
    "from freedom.utils.dataset import Data, DataGenerator\n",
    "from freedom.utils.i3cols_dataloader import load_hits, load_charges\n",
    "from freedom.neural_nets.hitnet import get_hitnet\n",
    "from freedom.neural_nets.chargenet import get_chargenet"
   ]
  },
  {
   "cell_type": "code",
   "execution_count": null,
   "metadata": {},
   "outputs": [],
   "source": [
    "labels = ['x', 'y', 'z', 'time', 'azimuth','zenith', 'cascade_energy', 'track_energy']\n",
    "optimizer = tf.keras.optimizers.Adam(1e-4)\n",
    "\n",
    "strategy = tf.distribute.MirroredStrategy()\n",
    "with strategy.scope():\n",
    "    hitnet = get_hitnet(labels)\n",
    "    hitnet.compile(loss='binary_crossentropy', optimizer=optimizer, metrics=['accuracy'])\n",
    "nGPUs = strategy.num_replicas_in_sync"
   ]
  },
  {
   "cell_type": "markdown",
   "metadata": {},
   "source": [
    "### DataGenerator"
   ]
  },
  {
   "cell_type": "code",
   "execution_count": null,
   "metadata": {},
   "outputs": [],
   "source": [
    "train_d = ['/tf/localscratch/weldert/120000_i3cols_train/', '/tf/localscratch/weldert/140000_i3cols_train/'] #\n",
    "valid_d = ['/tf/localscratch/weldert/120000_i3cols_valid/', '/tf/localscratch/weldert/140000_i3cols_valid/'] #\n",
    "\n",
    "training_generator = DataGenerator(load_hits, train_d, labels, batch_size=4096*nGPUs)\n",
    "validation_generator = DataGenerator(load_hits, valid_d, labels, batch_size=4096*nGPUs)"
   ]
  },
  {
   "cell_type": "code",
   "execution_count": null,
   "metadata": {},
   "outputs": [],
   "source": [
    "hist = hitnet.fit(training_generator, validation_data=validation_generator, epochs=5, verbose=1)"
   ]
  },
  {
   "cell_type": "markdown",
   "metadata": {},
   "source": [
    "### DataSet"
   ]
  },
  {
   "cell_type": "code",
   "execution_count": null,
   "metadata": {},
   "outputs": [],
   "source": [
    "data = Data(dirs=['/tf/localscratch/weldert/120000_i3cols_train', '/tf/localscratch/weldert/140000_i3cols_train']) #\n",
    "\n",
    "train_data, test_data = data.get_chargenet_data(train_batch_size=4096*nGPUs, test_batch_size=4096*nGPUs)"
   ]
  },
  {
   "cell_type": "code",
   "execution_count": null,
   "metadata": {
    "scrolled": false
   },
   "outputs": [],
   "source": [
    "hist = hitnet.fit(train_data, validation_data=test_data, epochs=10, verbose=1)"
   ]
  },
  {
   "cell_type": "code",
   "execution_count": null,
   "metadata": {},
   "outputs": [],
   "source": []
  }
 ],
 "metadata": {
  "kernelspec": {
   "display_name": "Python 3",
   "language": "python",
   "name": "python3"
  },
  "language_info": {
   "codemirror_mode": {
    "name": "ipython",
    "version": 3
   },
   "file_extension": ".py",
   "mimetype": "text/x-python",
   "name": "python",
   "nbconvert_exporter": "python",
   "pygments_lexer": "ipython3",
   "version": "3.6.9"
  }
 },
 "nbformat": 4,
 "nbformat_minor": 4
}

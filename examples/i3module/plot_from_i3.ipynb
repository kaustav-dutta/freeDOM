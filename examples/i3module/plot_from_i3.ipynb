{
 "cells": [
  {
   "cell_type": "code",
   "execution_count": null,
   "metadata": {},
   "outputs": [],
   "source": [
    "from icecube import dataio\n",
    "import numpy as np\n",
    "from matplotlib import pyplot as plt\n",
    "import os\n",
    "\n",
    "from freedom.utils.i3frame_dataloader import load_params"
   ]
  },
  {
   "cell_type": "code",
   "execution_count": null,
   "metadata": {},
   "outputs": [],
   "source": [
    "params = {'legend.fontsize': 16,\n",
    "          'figure.figsize': (15, 9.3),\n",
    "          'axes.labelsize': 20,\n",
    "          'axes.titlesize': 20,\n",
    "          'xtick.labelsize': 14,\n",
    "          'ytick.labelsize': 14}\n",
    "plt.rcParams.update(params)"
   ]
  },
  {
   "cell_type": "code",
   "execution_count": null,
   "metadata": {},
   "outputs": [],
   "source": [
    "D = '/localscratch/weldert/i3files/recoed/'\n",
    "fits, truths, retros = [], [], []\n",
    "for f in os.listdir(D):\n",
    "    if not 'oscNext' in f:\n",
    "        continue\n",
    "    file = dataio.I3File(D+f)\n",
    "    \n",
    "    while file.more():\n",
    "        try:\n",
    "            frame = file.pop_physics()\n",
    "        except:\n",
    "            break\n",
    "        \n",
    "        # FreeDOM\n",
    "        fit = frame['FreeDOM_test_best_fit']\n",
    "        fit.append(np.sum(fit[-2:]))\n",
    "        fits.append(fit)\n",
    "        \n",
    "        # Truth\n",
    "        truth = load_params(frame)\n",
    "        truth.append(np.sum(truth[-2:]))\n",
    "        truths.append(truth)\n",
    "        \n",
    "        # Retro (max)\n",
    "        retro = [frame['retro_crs_prefit__x'].values()[1], frame['retro_crs_prefit__y'].values()[1],\n",
    "                 frame['retro_crs_prefit__z'].values()[1], frame['retro_crs_prefit__time'].values()[1],\n",
    "                 frame['retro_crs_prefit__azimuth'].values()[1], frame['retro_crs_prefit__zenith'].values()[1],\n",
    "                 frame['retro_crs_prefit__cascade_energy'].values()[1], frame['retro_crs_prefit__track_energy'].values()[1]]\n",
    "        retro.append(np.sum(retro[-2:]))\n",
    "        retros.append(retro)\n",
    "        \n",
    "fits, truths, retros = np.array(fits), np.array(truths), np.array(retros)"
   ]
  },
  {
   "cell_type": "code",
   "execution_count": null,
   "metadata": {},
   "outputs": [],
   "source": [
    "ranges = [[-50, 50], [-50, 50], [-50, 50], [-50, 100], [-5, 5], [-2, 2], [-40, 40], [-40, 40], [-50, 50]]\n",
    "label = ['x', 'y', 'z', 'time', 'azimuth', 'zenith', 'cascade energy', 'track energy', 'energy']"
   ]
  },
  {
   "cell_type": "code",
   "execution_count": null,
   "metadata": {},
   "outputs": [],
   "source": [
    "plt.figure(figsize=(20,15))\n",
    "plt.suptitle('Reco-Truth', size=20, y=0.9)\n",
    "for i in range(9):\n",
    "    plt.subplot(3,3,i+1)\n",
    "    plt.hist(fits[:, i]-truths[:, i], np.linspace(ranges[i][0], ranges[i][1], 100), alpha=0.5, label='FreeDOM')\n",
    "    plt.hist(retros[:, i]-truths[:, i], np.linspace(ranges[i][0], ranges[i][1], 100), alpha=0.5, label='Retro')\n",
    "    plt.legend()\n",
    "    plt.xlabel(label[i])\n",
    "#plt.savefig('test', bbox_inches='tight')"
   ]
  },
  {
   "cell_type": "code",
   "execution_count": null,
   "metadata": {},
   "outputs": [],
   "source": []
  }
 ],
 "metadata": {
  "kernelspec": {
   "display_name": "Python 3",
   "language": "python",
   "name": "python3"
  },
  "language_info": {
   "codemirror_mode": {
    "name": "ipython",
    "version": 3
   },
   "file_extension": ".py",
   "mimetype": "text/x-python",
   "name": "python",
   "nbconvert_exporter": "python",
   "pygments_lexer": "ipython3",
   "version": "3.6.9"
  }
 },
 "nbformat": 4,
 "nbformat_minor": 2
}
